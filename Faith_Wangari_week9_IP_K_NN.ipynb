{
  "nbformat": 4,
  "nbformat_minor": 0,
  "metadata": {
    "colab": {
      "name": "Faith Wangari week9_IP_K-NN",
      "provenance": [],
      "collapsed_sections": [
        "wHrZCP3jfhHv"
      ],
      "toc_visible": true,
      "authorship_tag": "ABX9TyNTYUkEe5eYiVMLREna2LFN",
      "include_colab_link": true
    },
    "kernelspec": {
      "display_name": "Python 3",
      "name": "python3"
    },
    "language_info": {
      "name": "python"
    }
  },
  "cells": [
    {
      "cell_type": "markdown",
      "metadata": {
        "id": "view-in-github",
        "colab_type": "text"
      },
      "source": [
        "<a href=\"https://colab.research.google.com/github/FaithKare/KNN-and-Naive-bayes-Classification-/blob/master/Faith_Wangari_week9_IP_K_NN.ipynb\" target=\"_parent\"><img src=\"https://colab.research.google.com/assets/colab-badge.svg\" alt=\"Open In Colab\"/></a>"
      ]
    },
    {
      "cell_type": "markdown",
      "metadata": {
        "id": "1fDGs5exey4B"
      },
      "source": [
        "# 1. Defining the question "
      ]
    },
    {
      "cell_type": "markdown",
      "metadata": {
        "id": "T8DK4snUe7Yr"
      },
      "source": [
        "## a) Specyfing the question for analysis "
      ]
    },
    {
      "cell_type": "markdown",
      "metadata": {
        "id": "QDyxcIrDCmGc"
      },
      "source": [
        "The main objective of the analysis is to create  models with the K-Nearest Neighbor classifier using different train test split sizes that can predict if a passenger survived a sinking ship or not."
      ]
    },
    {
      "cell_type": "markdown",
      "metadata": {
        "id": "hxzWs82WfAy3"
      },
      "source": [
        "## b) Defining metric of success"
      ]
    },
    {
      "cell_type": "markdown",
      "metadata": {
        "id": "TeBaMdmOF0H_"
      },
      "source": [
        "identify the score in percentage of passengers that are correctly predicted, known as accuracy before and after optimization of the best model."
      ]
    },
    {
      "cell_type": "markdown",
      "metadata": {
        "id": "zOzjY07FfBKs"
      },
      "source": [
        "## c) Understanding the context "
      ]
    },
    {
      "cell_type": "markdown",
      "metadata": {
        "id": "36YS4utCGZfd"
      },
      "source": [
        "The titanic was one of the largest boats in England however it hit a rock and the ship sunk. This led to many deaths as not everyone was bale to make it to safety. We would like to take this opportunity to predict whether someone would survive given certain variables such as gender , class and where they boarded from."
      ]
    },
    {
      "cell_type": "markdown",
      "metadata": {
        "id": "j4LTIUnrfUQn"
      },
      "source": [
        "## d) Recording the experimental design "
      ]
    },
    {
      "cell_type": "markdown",
      "metadata": {
        "id": "a7-UriHFGrnk"
      },
      "source": [
        "Below are the steps that will be conducted in this analysis in order to fulfill the project goal satisfactorily:\n",
        "\n",
        "*   Data Reading and Cleaning \n",
        "\n",
        "*   Exploratory Data Analysis \n",
        "> Univariate analysis , Bivariate analysis, Multivariate analysis\n",
        "\n",
        "*   Implementing the solution with the K-NN algorithm \n",
        "> First model (80-20) sets , \n",
        "> Second model (70-30) sets , \n",
        "> Third mode (60-40) sets , \n",
        "\n",
        "*   Optimizing the best model \n"
      ]
    },
    {
      "cell_type": "markdown",
      "metadata": {
        "id": "nh9WpLY5fa4r"
      },
      "source": [
        "## e) Data Relevance"
      ]
    },
    {
      "cell_type": "markdown",
      "metadata": {
        "id": "FU7q8er6jqLa"
      },
      "source": [
        "This was measured against the success of the metrics after analysis was done."
      ]
    },
    {
      "cell_type": "markdown",
      "metadata": {
        "id": "wHrZCP3jfhHv"
      },
      "source": [
        "# 2. Loading and checking the data "
      ]
    },
    {
      "cell_type": "code",
      "metadata": {
        "id": "3OVdHDxSfp_s"
      },
      "source": [
        "# importing relevant libraries \n",
        "import pandas as pd \n",
        "import numpy as np\n",
        "import seaborn as sns\n",
        "import matplotlib.pyplot as plt\n"
      ],
      "execution_count": null,
      "outputs": []
    },
    {
      "cell_type": "markdown",
      "metadata": {
        "id": "kN7KrGfojhZG"
      },
      "source": [
        "## 2a) Checking the train Dataset"
      ]
    },
    {
      "cell_type": "code",
      "metadata": {
        "id": "Lc4_4GEVfqCY"
      },
      "source": [
        "# the train dataset \n",
        "df1 = pd.read_csv(\"train (5).csv\")"
      ],
      "execution_count": null,
      "outputs": []
    },
    {
      "cell_type": "code",
      "metadata": {
        "id": "8gf9PuNmfqG3"
      },
      "source": [
        "# the test dataset\n",
        "df2 = pd.read_csv(\"test (1).csv\")\n"
      ],
      "execution_count": null,
      "outputs": []
    },
    {
      "cell_type": "code",
      "metadata": {
        "colab": {
          "base_uri": "https://localhost:8080/",
          "height": 191
        },
        "id": "Fn_xOqisfqJF",
        "outputId": "45543ff7-a08e-4abf-b267-ca466e718a52"
      },
      "source": [
        "# preview of the train dataset which we wil focus on since it has the label data \n",
        "df1.head()"
      ],
      "execution_count": null,
      "outputs": [
        {
          "output_type": "execute_result",
          "data": {
            "text/html": [
              "<div>\n",
              "<style scoped>\n",
              "    .dataframe tbody tr th:only-of-type {\n",
              "        vertical-align: middle;\n",
              "    }\n",
              "\n",
              "    .dataframe tbody tr th {\n",
              "        vertical-align: top;\n",
              "    }\n",
              "\n",
              "    .dataframe thead th {\n",
              "        text-align: right;\n",
              "    }\n",
              "</style>\n",
              "<table border=\"1\" class=\"dataframe\">\n",
              "  <thead>\n",
              "    <tr style=\"text-align: right;\">\n",
              "      <th></th>\n",
              "      <th>PassengerId</th>\n",
              "      <th>Survived</th>\n",
              "      <th>Pclass</th>\n",
              "      <th>Name</th>\n",
              "      <th>Sex</th>\n",
              "      <th>Age</th>\n",
              "      <th>SibSp</th>\n",
              "      <th>Parch</th>\n",
              "      <th>Ticket</th>\n",
              "      <th>Fare</th>\n",
              "      <th>Cabin</th>\n",
              "      <th>Embarked</th>\n",
              "    </tr>\n",
              "  </thead>\n",
              "  <tbody>\n",
              "    <tr>\n",
              "      <th>0</th>\n",
              "      <td>1</td>\n",
              "      <td>0</td>\n",
              "      <td>3</td>\n",
              "      <td>Braund, Mr. Owen Harris</td>\n",
              "      <td>male</td>\n",
              "      <td>22.0</td>\n",
              "      <td>1</td>\n",
              "      <td>0</td>\n",
              "      <td>A/5 21171</td>\n",
              "      <td>7.2500</td>\n",
              "      <td>NaN</td>\n",
              "      <td>S</td>\n",
              "    </tr>\n",
              "    <tr>\n",
              "      <th>1</th>\n",
              "      <td>2</td>\n",
              "      <td>1</td>\n",
              "      <td>1</td>\n",
              "      <td>Cumings, Mrs. John Bradley (Florence Briggs Th...</td>\n",
              "      <td>female</td>\n",
              "      <td>38.0</td>\n",
              "      <td>1</td>\n",
              "      <td>0</td>\n",
              "      <td>PC 17599</td>\n",
              "      <td>71.2833</td>\n",
              "      <td>C85</td>\n",
              "      <td>C</td>\n",
              "    </tr>\n",
              "    <tr>\n",
              "      <th>2</th>\n",
              "      <td>3</td>\n",
              "      <td>1</td>\n",
              "      <td>3</td>\n",
              "      <td>Heikkinen, Miss. Laina</td>\n",
              "      <td>female</td>\n",
              "      <td>26.0</td>\n",
              "      <td>0</td>\n",
              "      <td>0</td>\n",
              "      <td>STON/O2. 3101282</td>\n",
              "      <td>7.9250</td>\n",
              "      <td>NaN</td>\n",
              "      <td>S</td>\n",
              "    </tr>\n",
              "    <tr>\n",
              "      <th>3</th>\n",
              "      <td>4</td>\n",
              "      <td>1</td>\n",
              "      <td>1</td>\n",
              "      <td>Futrelle, Mrs. Jacques Heath (Lily May Peel)</td>\n",
              "      <td>female</td>\n",
              "      <td>35.0</td>\n",
              "      <td>1</td>\n",
              "      <td>0</td>\n",
              "      <td>113803</td>\n",
              "      <td>53.1000</td>\n",
              "      <td>C123</td>\n",
              "      <td>S</td>\n",
              "    </tr>\n",
              "    <tr>\n",
              "      <th>4</th>\n",
              "      <td>5</td>\n",
              "      <td>0</td>\n",
              "      <td>3</td>\n",
              "      <td>Allen, Mr. William Henry</td>\n",
              "      <td>male</td>\n",
              "      <td>35.0</td>\n",
              "      <td>0</td>\n",
              "      <td>0</td>\n",
              "      <td>373450</td>\n",
              "      <td>8.0500</td>\n",
              "      <td>NaN</td>\n",
              "      <td>S</td>\n",
              "    </tr>\n",
              "  </tbody>\n",
              "</table>\n",
              "</div>"
            ],
            "text/plain": [
              "   PassengerId  Survived  Pclass  ...     Fare Cabin  Embarked\n",
              "0            1         0       3  ...   7.2500   NaN         S\n",
              "1            2         1       1  ...  71.2833   C85         C\n",
              "2            3         1       3  ...   7.9250   NaN         S\n",
              "3            4         1       1  ...  53.1000  C123         S\n",
              "4            5         0       3  ...   8.0500   NaN         S\n",
              "\n",
              "[5 rows x 12 columns]"
            ]
          },
          "metadata": {
            "tags": []
          },
          "execution_count": 94
        }
      ]
    },
    {
      "cell_type": "code",
      "metadata": {
        "colab": {
          "base_uri": "https://localhost:8080/",
          "height": 191
        },
        "id": "VJkWA4zxfqMz",
        "outputId": "afef7ae9-a2a3-4b21-b5e5-f629aec6dfe6"
      },
      "source": [
        "# preview of the bottom of the dataset \n",
        "df1.tail()"
      ],
      "execution_count": null,
      "outputs": [
        {
          "output_type": "execute_result",
          "data": {
            "text/html": [
              "<div>\n",
              "<style scoped>\n",
              "    .dataframe tbody tr th:only-of-type {\n",
              "        vertical-align: middle;\n",
              "    }\n",
              "\n",
              "    .dataframe tbody tr th {\n",
              "        vertical-align: top;\n",
              "    }\n",
              "\n",
              "    .dataframe thead th {\n",
              "        text-align: right;\n",
              "    }\n",
              "</style>\n",
              "<table border=\"1\" class=\"dataframe\">\n",
              "  <thead>\n",
              "    <tr style=\"text-align: right;\">\n",
              "      <th></th>\n",
              "      <th>PassengerId</th>\n",
              "      <th>Survived</th>\n",
              "      <th>Pclass</th>\n",
              "      <th>Name</th>\n",
              "      <th>Sex</th>\n",
              "      <th>Age</th>\n",
              "      <th>SibSp</th>\n",
              "      <th>Parch</th>\n",
              "      <th>Ticket</th>\n",
              "      <th>Fare</th>\n",
              "      <th>Cabin</th>\n",
              "      <th>Embarked</th>\n",
              "    </tr>\n",
              "  </thead>\n",
              "  <tbody>\n",
              "    <tr>\n",
              "      <th>886</th>\n",
              "      <td>887</td>\n",
              "      <td>0</td>\n",
              "      <td>2</td>\n",
              "      <td>Montvila, Rev. Juozas</td>\n",
              "      <td>male</td>\n",
              "      <td>27.0</td>\n",
              "      <td>0</td>\n",
              "      <td>0</td>\n",
              "      <td>211536</td>\n",
              "      <td>13.00</td>\n",
              "      <td>NaN</td>\n",
              "      <td>S</td>\n",
              "    </tr>\n",
              "    <tr>\n",
              "      <th>887</th>\n",
              "      <td>888</td>\n",
              "      <td>1</td>\n",
              "      <td>1</td>\n",
              "      <td>Graham, Miss. Margaret Edith</td>\n",
              "      <td>female</td>\n",
              "      <td>19.0</td>\n",
              "      <td>0</td>\n",
              "      <td>0</td>\n",
              "      <td>112053</td>\n",
              "      <td>30.00</td>\n",
              "      <td>B42</td>\n",
              "      <td>S</td>\n",
              "    </tr>\n",
              "    <tr>\n",
              "      <th>888</th>\n",
              "      <td>889</td>\n",
              "      <td>0</td>\n",
              "      <td>3</td>\n",
              "      <td>Johnston, Miss. Catherine Helen \"Carrie\"</td>\n",
              "      <td>female</td>\n",
              "      <td>NaN</td>\n",
              "      <td>1</td>\n",
              "      <td>2</td>\n",
              "      <td>W./C. 6607</td>\n",
              "      <td>23.45</td>\n",
              "      <td>NaN</td>\n",
              "      <td>S</td>\n",
              "    </tr>\n",
              "    <tr>\n",
              "      <th>889</th>\n",
              "      <td>890</td>\n",
              "      <td>1</td>\n",
              "      <td>1</td>\n",
              "      <td>Behr, Mr. Karl Howell</td>\n",
              "      <td>male</td>\n",
              "      <td>26.0</td>\n",
              "      <td>0</td>\n",
              "      <td>0</td>\n",
              "      <td>111369</td>\n",
              "      <td>30.00</td>\n",
              "      <td>C148</td>\n",
              "      <td>C</td>\n",
              "    </tr>\n",
              "    <tr>\n",
              "      <th>890</th>\n",
              "      <td>891</td>\n",
              "      <td>0</td>\n",
              "      <td>3</td>\n",
              "      <td>Dooley, Mr. Patrick</td>\n",
              "      <td>male</td>\n",
              "      <td>32.0</td>\n",
              "      <td>0</td>\n",
              "      <td>0</td>\n",
              "      <td>370376</td>\n",
              "      <td>7.75</td>\n",
              "      <td>NaN</td>\n",
              "      <td>Q</td>\n",
              "    </tr>\n",
              "  </tbody>\n",
              "</table>\n",
              "</div>"
            ],
            "text/plain": [
              "     PassengerId  Survived  Pclass  ...   Fare Cabin  Embarked\n",
              "886          887         0       2  ...  13.00   NaN         S\n",
              "887          888         1       1  ...  30.00   B42         S\n",
              "888          889         0       3  ...  23.45   NaN         S\n",
              "889          890         1       1  ...  30.00  C148         C\n",
              "890          891         0       3  ...   7.75   NaN         Q\n",
              "\n",
              "[5 rows x 12 columns]"
            ]
          },
          "metadata": {
            "tags": []
          },
          "execution_count": 95
        }
      ]
    },
    {
      "cell_type": "code",
      "metadata": {
        "colab": {
          "base_uri": "https://localhost:8080/"
        },
        "id": "PwHJzUQXiVxi",
        "outputId": "fa37804f-dcfc-4560-b7d4-c949c804bc4b"
      },
      "source": [
        "# checking the number of records in the dataset\n",
        "df1.shape"
      ],
      "execution_count": null,
      "outputs": [
        {
          "output_type": "execute_result",
          "data": {
            "text/plain": [
              "(891, 12)"
            ]
          },
          "metadata": {
            "tags": []
          },
          "execution_count": 96
        }
      ]
    },
    {
      "cell_type": "code",
      "metadata": {
        "colab": {
          "base_uri": "https://localhost:8080/"
        },
        "id": "8Bhu9LXYiVyw",
        "outputId": "5db2a726-13a7-405a-967b-00d3d88ab42b"
      },
      "source": [
        "#checking if each column has the right dataset\n",
        "df1.info()"
      ],
      "execution_count": null,
      "outputs": [
        {
          "output_type": "stream",
          "text": [
            "<class 'pandas.core.frame.DataFrame'>\n",
            "RangeIndex: 891 entries, 0 to 890\n",
            "Data columns (total 12 columns):\n",
            " #   Column       Non-Null Count  Dtype  \n",
            "---  ------       --------------  -----  \n",
            " 0   PassengerId  891 non-null    int64  \n",
            " 1   Survived     891 non-null    int64  \n",
            " 2   Pclass       891 non-null    int64  \n",
            " 3   Name         891 non-null    object \n",
            " 4   Sex          891 non-null    object \n",
            " 5   Age          714 non-null    float64\n",
            " 6   SibSp        891 non-null    int64  \n",
            " 7   Parch        891 non-null    int64  \n",
            " 8   Ticket       891 non-null    object \n",
            " 9   Fare         891 non-null    float64\n",
            " 10  Cabin        204 non-null    object \n",
            " 11  Embarked     889 non-null    object \n",
            "dtypes: float64(2), int64(5), object(5)\n",
            "memory usage: 83.7+ KB\n"
          ],
          "name": "stdout"
        }
      ]
    },
    {
      "cell_type": "markdown",
      "metadata": {
        "id": "oxgCBjP8jtoS"
      },
      "source": [
        "## 2b) Checking the test dataset"
      ]
    },
    {
      "cell_type": "code",
      "metadata": {
        "colab": {
          "base_uri": "https://localhost:8080/",
          "height": 191
        },
        "id": "3QTxhulEj02s",
        "outputId": "241bc9c2-fc4e-4845-e3fd-2f5a6595a314"
      },
      "source": [
        "df2.head()"
      ],
      "execution_count": null,
      "outputs": [
        {
          "output_type": "execute_result",
          "data": {
            "text/html": [
              "<div>\n",
              "<style scoped>\n",
              "    .dataframe tbody tr th:only-of-type {\n",
              "        vertical-align: middle;\n",
              "    }\n",
              "\n",
              "    .dataframe tbody tr th {\n",
              "        vertical-align: top;\n",
              "    }\n",
              "\n",
              "    .dataframe thead th {\n",
              "        text-align: right;\n",
              "    }\n",
              "</style>\n",
              "<table border=\"1\" class=\"dataframe\">\n",
              "  <thead>\n",
              "    <tr style=\"text-align: right;\">\n",
              "      <th></th>\n",
              "      <th>PassengerId</th>\n",
              "      <th>Pclass</th>\n",
              "      <th>Name</th>\n",
              "      <th>Sex</th>\n",
              "      <th>Age</th>\n",
              "      <th>SibSp</th>\n",
              "      <th>Parch</th>\n",
              "      <th>Ticket</th>\n",
              "      <th>Fare</th>\n",
              "      <th>Cabin</th>\n",
              "      <th>Embarked</th>\n",
              "    </tr>\n",
              "  </thead>\n",
              "  <tbody>\n",
              "    <tr>\n",
              "      <th>0</th>\n",
              "      <td>892</td>\n",
              "      <td>3</td>\n",
              "      <td>Kelly, Mr. James</td>\n",
              "      <td>male</td>\n",
              "      <td>34.5</td>\n",
              "      <td>0</td>\n",
              "      <td>0</td>\n",
              "      <td>330911</td>\n",
              "      <td>7.8292</td>\n",
              "      <td>NaN</td>\n",
              "      <td>Q</td>\n",
              "    </tr>\n",
              "    <tr>\n",
              "      <th>1</th>\n",
              "      <td>893</td>\n",
              "      <td>3</td>\n",
              "      <td>Wilkes, Mrs. James (Ellen Needs)</td>\n",
              "      <td>female</td>\n",
              "      <td>47.0</td>\n",
              "      <td>1</td>\n",
              "      <td>0</td>\n",
              "      <td>363272</td>\n",
              "      <td>7.0000</td>\n",
              "      <td>NaN</td>\n",
              "      <td>S</td>\n",
              "    </tr>\n",
              "    <tr>\n",
              "      <th>2</th>\n",
              "      <td>894</td>\n",
              "      <td>2</td>\n",
              "      <td>Myles, Mr. Thomas Francis</td>\n",
              "      <td>male</td>\n",
              "      <td>62.0</td>\n",
              "      <td>0</td>\n",
              "      <td>0</td>\n",
              "      <td>240276</td>\n",
              "      <td>9.6875</td>\n",
              "      <td>NaN</td>\n",
              "      <td>Q</td>\n",
              "    </tr>\n",
              "    <tr>\n",
              "      <th>3</th>\n",
              "      <td>895</td>\n",
              "      <td>3</td>\n",
              "      <td>Wirz, Mr. Albert</td>\n",
              "      <td>male</td>\n",
              "      <td>27.0</td>\n",
              "      <td>0</td>\n",
              "      <td>0</td>\n",
              "      <td>315154</td>\n",
              "      <td>8.6625</td>\n",
              "      <td>NaN</td>\n",
              "      <td>S</td>\n",
              "    </tr>\n",
              "    <tr>\n",
              "      <th>4</th>\n",
              "      <td>896</td>\n",
              "      <td>3</td>\n",
              "      <td>Hirvonen, Mrs. Alexander (Helga E Lindqvist)</td>\n",
              "      <td>female</td>\n",
              "      <td>22.0</td>\n",
              "      <td>1</td>\n",
              "      <td>1</td>\n",
              "      <td>3101298</td>\n",
              "      <td>12.2875</td>\n",
              "      <td>NaN</td>\n",
              "      <td>S</td>\n",
              "    </tr>\n",
              "  </tbody>\n",
              "</table>\n",
              "</div>"
            ],
            "text/plain": [
              "   PassengerId  Pclass  ... Cabin Embarked\n",
              "0          892       3  ...   NaN        Q\n",
              "1          893       3  ...   NaN        S\n",
              "2          894       2  ...   NaN        Q\n",
              "3          895       3  ...   NaN        S\n",
              "4          896       3  ...   NaN        S\n",
              "\n",
              "[5 rows x 11 columns]"
            ]
          },
          "metadata": {
            "tags": []
          },
          "execution_count": 98
        }
      ]
    },
    {
      "cell_type": "code",
      "metadata": {
        "colab": {
          "base_uri": "https://localhost:8080/",
          "height": 191
        },
        "id": "ZyriZRVnj1BC",
        "outputId": "0e5ad346-137f-4ca3-d4be-0788f97de43d"
      },
      "source": [
        "df2.tail()"
      ],
      "execution_count": null,
      "outputs": [
        {
          "output_type": "execute_result",
          "data": {
            "text/html": [
              "<div>\n",
              "<style scoped>\n",
              "    .dataframe tbody tr th:only-of-type {\n",
              "        vertical-align: middle;\n",
              "    }\n",
              "\n",
              "    .dataframe tbody tr th {\n",
              "        vertical-align: top;\n",
              "    }\n",
              "\n",
              "    .dataframe thead th {\n",
              "        text-align: right;\n",
              "    }\n",
              "</style>\n",
              "<table border=\"1\" class=\"dataframe\">\n",
              "  <thead>\n",
              "    <tr style=\"text-align: right;\">\n",
              "      <th></th>\n",
              "      <th>PassengerId</th>\n",
              "      <th>Pclass</th>\n",
              "      <th>Name</th>\n",
              "      <th>Sex</th>\n",
              "      <th>Age</th>\n",
              "      <th>SibSp</th>\n",
              "      <th>Parch</th>\n",
              "      <th>Ticket</th>\n",
              "      <th>Fare</th>\n",
              "      <th>Cabin</th>\n",
              "      <th>Embarked</th>\n",
              "    </tr>\n",
              "  </thead>\n",
              "  <tbody>\n",
              "    <tr>\n",
              "      <th>413</th>\n",
              "      <td>1305</td>\n",
              "      <td>3</td>\n",
              "      <td>Spector, Mr. Woolf</td>\n",
              "      <td>male</td>\n",
              "      <td>NaN</td>\n",
              "      <td>0</td>\n",
              "      <td>0</td>\n",
              "      <td>A.5. 3236</td>\n",
              "      <td>8.0500</td>\n",
              "      <td>NaN</td>\n",
              "      <td>S</td>\n",
              "    </tr>\n",
              "    <tr>\n",
              "      <th>414</th>\n",
              "      <td>1306</td>\n",
              "      <td>1</td>\n",
              "      <td>Oliva y Ocana, Dona. Fermina</td>\n",
              "      <td>female</td>\n",
              "      <td>39.0</td>\n",
              "      <td>0</td>\n",
              "      <td>0</td>\n",
              "      <td>PC 17758</td>\n",
              "      <td>108.9000</td>\n",
              "      <td>C105</td>\n",
              "      <td>C</td>\n",
              "    </tr>\n",
              "    <tr>\n",
              "      <th>415</th>\n",
              "      <td>1307</td>\n",
              "      <td>3</td>\n",
              "      <td>Saether, Mr. Simon Sivertsen</td>\n",
              "      <td>male</td>\n",
              "      <td>38.5</td>\n",
              "      <td>0</td>\n",
              "      <td>0</td>\n",
              "      <td>SOTON/O.Q. 3101262</td>\n",
              "      <td>7.2500</td>\n",
              "      <td>NaN</td>\n",
              "      <td>S</td>\n",
              "    </tr>\n",
              "    <tr>\n",
              "      <th>416</th>\n",
              "      <td>1308</td>\n",
              "      <td>3</td>\n",
              "      <td>Ware, Mr. Frederick</td>\n",
              "      <td>male</td>\n",
              "      <td>NaN</td>\n",
              "      <td>0</td>\n",
              "      <td>0</td>\n",
              "      <td>359309</td>\n",
              "      <td>8.0500</td>\n",
              "      <td>NaN</td>\n",
              "      <td>S</td>\n",
              "    </tr>\n",
              "    <tr>\n",
              "      <th>417</th>\n",
              "      <td>1309</td>\n",
              "      <td>3</td>\n",
              "      <td>Peter, Master. Michael J</td>\n",
              "      <td>male</td>\n",
              "      <td>NaN</td>\n",
              "      <td>1</td>\n",
              "      <td>1</td>\n",
              "      <td>2668</td>\n",
              "      <td>22.3583</td>\n",
              "      <td>NaN</td>\n",
              "      <td>C</td>\n",
              "    </tr>\n",
              "  </tbody>\n",
              "</table>\n",
              "</div>"
            ],
            "text/plain": [
              "     PassengerId  Pclass                          Name  ...      Fare  Cabin  Embarked\n",
              "413         1305       3            Spector, Mr. Woolf  ...    8.0500    NaN         S\n",
              "414         1306       1  Oliva y Ocana, Dona. Fermina  ...  108.9000   C105         C\n",
              "415         1307       3  Saether, Mr. Simon Sivertsen  ...    7.2500    NaN         S\n",
              "416         1308       3           Ware, Mr. Frederick  ...    8.0500    NaN         S\n",
              "417         1309       3      Peter, Master. Michael J  ...   22.3583    NaN         C\n",
              "\n",
              "[5 rows x 11 columns]"
            ]
          },
          "metadata": {
            "tags": []
          },
          "execution_count": 99
        }
      ]
    },
    {
      "cell_type": "code",
      "metadata": {
        "colab": {
          "base_uri": "https://localhost:8080/"
        },
        "id": "8ymCBUxYj1Ce",
        "outputId": "cdb76182-f172-46ad-8850-3cd608c6f6b3"
      },
      "source": [
        "df2.shape"
      ],
      "execution_count": null,
      "outputs": [
        {
          "output_type": "execute_result",
          "data": {
            "text/plain": [
              "(418, 11)"
            ]
          },
          "metadata": {
            "tags": []
          },
          "execution_count": 100
        }
      ]
    },
    {
      "cell_type": "code",
      "metadata": {
        "colab": {
          "base_uri": "https://localhost:8080/"
        },
        "id": "yVyIz0rmj1Ei",
        "outputId": "bdf0aa6f-bf08-49bf-d2f7-cbed666d26b3"
      },
      "source": [
        "df2.info()"
      ],
      "execution_count": null,
      "outputs": [
        {
          "output_type": "stream",
          "text": [
            "<class 'pandas.core.frame.DataFrame'>\n",
            "RangeIndex: 418 entries, 0 to 417\n",
            "Data columns (total 11 columns):\n",
            " #   Column       Non-Null Count  Dtype  \n",
            "---  ------       --------------  -----  \n",
            " 0   PassengerId  418 non-null    int64  \n",
            " 1   Pclass       418 non-null    int64  \n",
            " 2   Name         418 non-null    object \n",
            " 3   Sex          418 non-null    object \n",
            " 4   Age          332 non-null    float64\n",
            " 5   SibSp        418 non-null    int64  \n",
            " 6   Parch        418 non-null    int64  \n",
            " 7   Ticket       418 non-null    object \n",
            " 8   Fare         417 non-null    float64\n",
            " 9   Cabin        91 non-null     object \n",
            " 10  Embarked     418 non-null    object \n",
            "dtypes: float64(2), int64(4), object(5)\n",
            "memory usage: 36.0+ KB\n"
          ],
          "name": "stdout"
        }
      ]
    },
    {
      "cell_type": "markdown",
      "metadata": {
        "id": "NJn-sC-NjEV_"
      },
      "source": [
        "# 3. Data Cleaning "
      ]
    },
    {
      "cell_type": "markdown",
      "metadata": {
        "id": "a-_LlODkkBq0"
      },
      "source": [
        "## 3a) Cleaning the Train dataset"
      ]
    },
    {
      "cell_type": "code",
      "metadata": {
        "colab": {
          "base_uri": "https://localhost:8080/",
          "height": 191
        },
        "id": "XDJLXLnAGwe-",
        "outputId": "9240608f-a2ae-48d6-aa08-9a3926075493"
      },
      "source": [
        "# drop columns not needed in the analysis \n",
        "df1 = df1.drop(['PassengerId','Name','Ticket','Cabin'], 1)\n",
        "df1.head()\n"
      ],
      "execution_count": null,
      "outputs": [
        {
          "output_type": "execute_result",
          "data": {
            "text/html": [
              "<div>\n",
              "<style scoped>\n",
              "    .dataframe tbody tr th:only-of-type {\n",
              "        vertical-align: middle;\n",
              "    }\n",
              "\n",
              "    .dataframe tbody tr th {\n",
              "        vertical-align: top;\n",
              "    }\n",
              "\n",
              "    .dataframe thead th {\n",
              "        text-align: right;\n",
              "    }\n",
              "</style>\n",
              "<table border=\"1\" class=\"dataframe\">\n",
              "  <thead>\n",
              "    <tr style=\"text-align: right;\">\n",
              "      <th></th>\n",
              "      <th>Survived</th>\n",
              "      <th>Pclass</th>\n",
              "      <th>Sex</th>\n",
              "      <th>Age</th>\n",
              "      <th>SibSp</th>\n",
              "      <th>Parch</th>\n",
              "      <th>Fare</th>\n",
              "      <th>Embarked</th>\n",
              "    </tr>\n",
              "  </thead>\n",
              "  <tbody>\n",
              "    <tr>\n",
              "      <th>0</th>\n",
              "      <td>0</td>\n",
              "      <td>3</td>\n",
              "      <td>male</td>\n",
              "      <td>22.0</td>\n",
              "      <td>1</td>\n",
              "      <td>0</td>\n",
              "      <td>7.2500</td>\n",
              "      <td>S</td>\n",
              "    </tr>\n",
              "    <tr>\n",
              "      <th>1</th>\n",
              "      <td>1</td>\n",
              "      <td>1</td>\n",
              "      <td>female</td>\n",
              "      <td>38.0</td>\n",
              "      <td>1</td>\n",
              "      <td>0</td>\n",
              "      <td>71.2833</td>\n",
              "      <td>C</td>\n",
              "    </tr>\n",
              "    <tr>\n",
              "      <th>2</th>\n",
              "      <td>1</td>\n",
              "      <td>3</td>\n",
              "      <td>female</td>\n",
              "      <td>26.0</td>\n",
              "      <td>0</td>\n",
              "      <td>0</td>\n",
              "      <td>7.9250</td>\n",
              "      <td>S</td>\n",
              "    </tr>\n",
              "    <tr>\n",
              "      <th>3</th>\n",
              "      <td>1</td>\n",
              "      <td>1</td>\n",
              "      <td>female</td>\n",
              "      <td>35.0</td>\n",
              "      <td>1</td>\n",
              "      <td>0</td>\n",
              "      <td>53.1000</td>\n",
              "      <td>S</td>\n",
              "    </tr>\n",
              "    <tr>\n",
              "      <th>4</th>\n",
              "      <td>0</td>\n",
              "      <td>3</td>\n",
              "      <td>male</td>\n",
              "      <td>35.0</td>\n",
              "      <td>0</td>\n",
              "      <td>0</td>\n",
              "      <td>8.0500</td>\n",
              "      <td>S</td>\n",
              "    </tr>\n",
              "  </tbody>\n",
              "</table>\n",
              "</div>"
            ],
            "text/plain": [
              "   Survived  Pclass     Sex   Age  SibSp  Parch     Fare Embarked\n",
              "0         0       3    male  22.0      1      0   7.2500        S\n",
              "1         1       1  female  38.0      1      0  71.2833        C\n",
              "2         1       3  female  26.0      0      0   7.9250        S\n",
              "3         1       1  female  35.0      1      0  53.1000        S\n",
              "4         0       3    male  35.0      0      0   8.0500        S"
            ]
          },
          "metadata": {
            "tags": []
          },
          "execution_count": 102
        }
      ]
    },
    {
      "cell_type": "code",
      "metadata": {
        "colab": {
          "base_uri": "https://localhost:8080/"
        },
        "id": "zkWQ_OkRiV1G",
        "outputId": "5cbf445e-be81-4eb8-bcac-e5fb235bc94a"
      },
      "source": [
        "# checking for missing values \n",
        "df1.isnull().sum()"
      ],
      "execution_count": null,
      "outputs": [
        {
          "output_type": "execute_result",
          "data": {
            "text/plain": [
              "Survived      0\n",
              "Pclass        0\n",
              "Sex           0\n",
              "Age         177\n",
              "SibSp         0\n",
              "Parch         0\n",
              "Fare          0\n",
              "Embarked      2\n",
              "dtype: int64"
            ]
          },
          "metadata": {
            "tags": []
          },
          "execution_count": 103
        }
      ]
    },
    {
      "cell_type": "code",
      "metadata": {
        "colab": {
          "base_uri": "https://localhost:8080/",
          "height": 295
        },
        "id": "m8deb2CkHezJ",
        "outputId": "0bcb633d-3460-4fbe-d2d8-35925f6ad786"
      },
      "source": [
        "# Let's look at how passenger age is related to their class as a passenger on the boat.\n",
        "\n",
        "sns.boxplot(x='Pclass', y='Age', data= df1, palette='hls')"
      ],
      "execution_count": null,
      "outputs": [
        {
          "output_type": "execute_result",
          "data": {
            "text/plain": [
              "<matplotlib.axes._subplots.AxesSubplot at 0x7fd1445c0e50>"
            ]
          },
          "metadata": {
            "tags": []
          },
          "execution_count": 104
        },
        {
          "output_type": "display_data",
          "data": {
            "image/png": "[encoded data removed]",
            "text/plain": [
              "<Figure size 432x288 with 1 Axes>"
            ]
          },
          "metadata": {
            "tags": []
          }
        }
      ]
    },
    {
      "cell_type": "code",
      "metadata": {
        "id": "mPT0ipjTH7D2"
      },
      "source": [
        "# Speaking roughly, we could say that the younger a passenger is, the more likely it is for them to be in 3rd class. \n",
        "# The older a passenger is, the more likely it is for them to be in 1st class. \n",
        "# So there is a loose relationship between these variables. \n",
        "# So, let's write a function that approximates a passengers age, based on their class. \n",
        "# From the box plot, it looks like the average age of 1st class passengers \n",
        "# is about 37, 2nd class passengers is 29, and 3rd class pasengers is 24.\n",
        "\n",
        "# So let's write a function that finds each null value in the Age variable, and for each null, \n",
        "# checks the value of the Pclass and assigns an age value according to the average age of passengers in that class.\n",
        "#\n",
        "def age_approx(cols):\n",
        "    Age = cols[0]\n",
        "    Pclass = cols[1]\n",
        "    \n",
        "    if pd.isnull(Age):\n",
        "        if Pclass == 1:\n",
        "            return 37\n",
        "        elif Pclass == 2:\n",
        "            return 29\n",
        "        else:\n",
        "            return 24\n",
        "    else:\n",
        "        return Age\n",
        "\n",
        "# When we apply the function and check again for null values, we see that there are no more null values in the age variable.\n",
        "#\n",
        "df1['Age'] = df1[['Age', 'Pclass']].apply(age_approx, axis=1)\n",
        "        "
      ],
      "execution_count": null,
      "outputs": []
    },
    {
      "cell_type": "code",
      "metadata": {
        "colab": {
          "base_uri": "https://localhost:8080/"
        },
        "id": "H05j5lkSiV34",
        "outputId": "aa2f7755-d973-42f4-c416-a742899ad4b0"
      },
      "source": [
        "# dropping the missing values in the embarked column sice they are only two \n",
        "df1.dropna(inplace=True)\n",
        "\n",
        "# confirming all missing values have been dealt with  \n",
        "df1.isnull().any()"
      ],
      "execution_count": null,
      "outputs": [
        {
          "output_type": "execute_result",
          "data": {
            "text/plain": [
              "Survived    False\n",
              "Pclass      False\n",
              "Sex         False\n",
              "Age         False\n",
              "SibSp       False\n",
              "Parch       False\n",
              "Fare        False\n",
              "Embarked    False\n",
              "dtype: bool"
            ]
          },
          "metadata": {
            "tags": []
          },
          "execution_count": 106
        }
      ]
    },
    {
      "cell_type": "code",
      "metadata": {
        "colab": {
          "base_uri": "https://localhost:8080/"
        },
        "id": "wtQM-nHUPwv7",
        "outputId": "a271341b-0365-430e-aa1a-c26bf7504cc0"
      },
      "source": [
        "# checking for duplicates in the data \n",
        "df1.duplicated().sum()"
      ],
      "execution_count": null,
      "outputs": [
        {
          "output_type": "execute_result",
          "data": {
            "text/plain": [
              "116"
            ]
          },
          "metadata": {
            "tags": []
          },
          "execution_count": 107
        }
      ]
    },
    {
      "cell_type": "code",
      "metadata": {
        "colab": {
          "base_uri": "https://localhost:8080/"
        },
        "id": "AX8k8wSEQMu1",
        "outputId": "5eac4083-8092-4663-eb04-2887a10bad44"
      },
      "source": [
        "# Removing duplicates\n",
        "# Keeping every first data point of the duplicated datapoints\n",
        "df1.drop_duplicates(keep='first', inplace = True)\n",
        "\n",
        "# Checking to confirm whether duplicates have been dropped\n",
        "df1.duplicated().any()"
      ],
      "execution_count": null,
      "outputs": [
        {
          "output_type": "execute_result",
          "data": {
            "text/plain": [
              "False"
            ]
          },
          "metadata": {
            "tags": []
          },
          "execution_count": 108
        }
      ]
    },
    {
      "cell_type": "code",
      "metadata": {
        "colab": {
          "base_uri": "https://localhost:8080/"
        },
        "id": "c6nzvVfxH7OW",
        "outputId": "ad95a4be-f7a8-4d54-95db-d0b7eda0d2cd"
      },
      "source": [
        "# checking for anomalies in the dataset \n",
        "Q1 = df1.quantile(0.25)\n",
        "Q3 = df1.quantile(0.75)\n",
        "IQR = Q3- Q1\n",
        "IQR"
      ],
      "execution_count": null,
      "outputs": [
        {
          "output_type": "execute_result",
          "data": {
            "text/plain": [
              "Survived     1.000\n",
              "Pclass       2.000\n",
              "Age         16.000\n",
              "SibSp        1.000\n",
              "Parch        1.000\n",
              "Fare        26.325\n",
              "dtype: float64"
            ]
          },
          "metadata": {
            "tags": []
          },
          "execution_count": 109
        }
      ]
    },
    {
      "cell_type": "code",
      "metadata": {
        "colab": {
          "base_uri": "https://localhost:8080/",
          "height": 615
        },
        "id": "hwdxNmOYH7P2",
        "outputId": "0c51f217-6c1d-41db-fb1f-5e82da824c10"
      },
      "source": [
        "# plotting outliers in the dataset using boxplots \n",
        "fig, (ax1, ax2, ax3) = plt.subplots(1,3, figsize=(18,4))\n",
        "fig.suptitle('Boxplots')\n",
        "sns.boxplot(x = df1['Survived'], ax=ax1, showmeans = True)\n",
        "sns.boxplot(x = df1['Pclass'], ax=ax2, showmeans = True)\n",
        "sns.boxplot(x = df1['Age'], ax=ax3, showmeans = True)\n",
        "\n",
        "fig, (ax4, ax5,ax6) = plt.subplots(1,3, figsize=(18,4))\n",
        "fig.suptitle('Boxplots')\n",
        "sns.boxplot(x = df1['SibSp'], ax=ax4, showmeans = True)\n",
        "sns.boxplot(x = df1['Parch'], ax=ax5, showmeans = True)\n",
        "sns.boxplot(x = df1['Fare'], ax=ax6, showmeans = True)\n",
        "\n",
        "# these outliers will not be removed in the analysis "
      ],
      "execution_count": null,
      "outputs": [
        {
          "output_type": "execute_result",
          "data": {
            "text/plain": [
              "<matplotlib.axes._subplots.AxesSubplot at 0x7fd140544210>"
            ]
          },
          "metadata": {
            "tags": []
          },
          "execution_count": 110
        },
        {
          "output_type": "display_data",
          "data": {
            "image/png": "[encoded data removed]",
            "text/plain": [
              "<Figure size 1296x288 with 3 Axes>"
            ]
          },
          "metadata": {
            "tags": []
          }
        },
        {
          "output_type": "display_data",
          "data": {
            "image/png": "[encoded data removed]",
            "text/plain": [
              "<Figure size 1296x288 with 3 Axes>"
            ]
          },
          "metadata": {
            "tags": []
          }
        }
      ]
    },
    {
      "cell_type": "markdown",
      "metadata": {
        "id": "pJ-cZPUukJhy"
      },
      "source": [
        "## 3b) Cleaning the Test dataset"
      ]
    },
    {
      "cell_type": "code",
      "metadata": {
        "colab": {
          "base_uri": "https://localhost:8080/",
          "height": 191
        },
        "id": "7iP5pY2emaP5",
        "outputId": "ecf2d87d-3b73-4b6a-98da-1b813b09d2f6"
      },
      "source": [
        "# drop columns not needed in the analysis \n",
        "df2 = df2.drop(['PassengerId','Name','Ticket','Cabin'], 1)\n",
        "df2.head()\n"
      ],
      "execution_count": null,
      "outputs": [
        {
          "output_type": "execute_result",
          "data": {
            "text/html": [
              "<div>\n",
              "<style scoped>\n",
              "    .dataframe tbody tr th:only-of-type {\n",
              "        vertical-align: middle;\n",
              "    }\n",
              "\n",
              "    .dataframe tbody tr th {\n",
              "        vertical-align: top;\n",
              "    }\n",
              "\n",
              "    .dataframe thead th {\n",
              "        text-align: right;\n",
              "    }\n",
              "</style>\n",
              "<table border=\"1\" class=\"dataframe\">\n",
              "  <thead>\n",
              "    <tr style=\"text-align: right;\">\n",
              "      <th></th>\n",
              "      <th>Pclass</th>\n",
              "      <th>Sex</th>\n",
              "      <th>Age</th>\n",
              "      <th>SibSp</th>\n",
              "      <th>Parch</th>\n",
              "      <th>Fare</th>\n",
              "      <th>Embarked</th>\n",
              "    </tr>\n",
              "  </thead>\n",
              "  <tbody>\n",
              "    <tr>\n",
              "      <th>0</th>\n",
              "      <td>3</td>\n",
              "      <td>male</td>\n",
              "      <td>34.5</td>\n",
              "      <td>0</td>\n",
              "      <td>0</td>\n",
              "      <td>7.8292</td>\n",
              "      <td>Q</td>\n",
              "    </tr>\n",
              "    <tr>\n",
              "      <th>1</th>\n",
              "      <td>3</td>\n",
              "      <td>female</td>\n",
              "      <td>47.0</td>\n",
              "      <td>1</td>\n",
              "      <td>0</td>\n",
              "      <td>7.0000</td>\n",
              "      <td>S</td>\n",
              "    </tr>\n",
              "    <tr>\n",
              "      <th>2</th>\n",
              "      <td>2</td>\n",
              "      <td>male</td>\n",
              "      <td>62.0</td>\n",
              "      <td>0</td>\n",
              "      <td>0</td>\n",
              "      <td>9.6875</td>\n",
              "      <td>Q</td>\n",
              "    </tr>\n",
              "    <tr>\n",
              "      <th>3</th>\n",
              "      <td>3</td>\n",
              "      <td>male</td>\n",
              "      <td>27.0</td>\n",
              "      <td>0</td>\n",
              "      <td>0</td>\n",
              "      <td>8.6625</td>\n",
              "      <td>S</td>\n",
              "    </tr>\n",
              "    <tr>\n",
              "      <th>4</th>\n",
              "      <td>3</td>\n",
              "      <td>female</td>\n",
              "      <td>22.0</td>\n",
              "      <td>1</td>\n",
              "      <td>1</td>\n",
              "      <td>12.2875</td>\n",
              "      <td>S</td>\n",
              "    </tr>\n",
              "  </tbody>\n",
              "</table>\n",
              "</div>"
            ],
            "text/plain": [
              "   Pclass     Sex   Age  SibSp  Parch     Fare Embarked\n",
              "0       3    male  34.5      0      0   7.8292        Q\n",
              "1       3  female  47.0      1      0   7.0000        S\n",
              "2       2    male  62.0      0      0   9.6875        Q\n",
              "3       3    male  27.0      0      0   8.6625        S\n",
              "4       3  female  22.0      1      1  12.2875        S"
            ]
          },
          "metadata": {
            "tags": []
          },
          "execution_count": 111
        }
      ]
    },
    {
      "cell_type": "code",
      "metadata": {
        "colab": {
          "base_uri": "https://localhost:8080/"
        },
        "id": "7Nv7uSKemacV",
        "outputId": "1a0b1aa3-c6ba-4d3b-c7d9-cea5a528881d"
      },
      "source": [
        "# checking for missing values \n",
        "df2.isnull().sum()"
      ],
      "execution_count": null,
      "outputs": [
        {
          "output_type": "execute_result",
          "data": {
            "text/plain": [
              "Pclass       0\n",
              "Sex          0\n",
              "Age         86\n",
              "SibSp        0\n",
              "Parch        0\n",
              "Fare         1\n",
              "Embarked     0\n",
              "dtype: int64"
            ]
          },
          "metadata": {
            "tags": []
          },
          "execution_count": 112
        }
      ]
    },
    {
      "cell_type": "code",
      "metadata": {
        "colab": {
          "base_uri": "https://localhost:8080/",
          "height": 295
        },
        "id": "X9wqO8c1m9y_",
        "outputId": "999719e2-0962-4067-d76d-ca6825e3a8aa"
      },
      "source": [
        "# Let's look at how passenger age is related to their class as a passenger on the boat.\n",
        "\n",
        "sns.boxplot(x='Pclass', y='Age', data= df2, palette='hls')"
      ],
      "execution_count": null,
      "outputs": [
        {
          "output_type": "execute_result",
          "data": {
            "text/plain": [
              "<matplotlib.axes._subplots.AxesSubplot at 0x7fd14475e250>"
            ]
          },
          "metadata": {
            "tags": []
          },
          "execution_count": 113
        },
        {
          "output_type": "display_data",
          "data": {
            "image/png": "[encoded data removed]",
            "text/plain": [
              "<Figure size 432x288 with 1 Axes>"
            ]
          },
          "metadata": {
            "tags": []
          }
        }
      ]
    },
    {
      "cell_type": "code",
      "metadata": {
        "id": "gzRRQboUmaei"
      },
      "source": [
        "# So let's write a function that finds each null value in the Age variable, and for each null, \n",
        "# checks the value of the Pclass and assigns an age value according to the average age of passengers in that class.\n",
        "#\n",
        "def age_approx(cols):\n",
        "    Age = cols[0]\n",
        "    Pclass = cols[1]\n",
        "    \n",
        "    if pd.isnull(Age):\n",
        "        if Pclass == 1:\n",
        "            return 42\n",
        "        elif Pclass == 2:\n",
        "            return 28\n",
        "        else:\n",
        "            return 24\n",
        "    else:\n",
        "        return Age\n",
        "\n",
        "# When we apply the function and check again for null values, we see that there are no more null values in the age variable.\n",
        "#\n",
        "df2['Age'] = df2[['Age', 'Pclass']].apply(age_approx, axis=1)"
      ],
      "execution_count": null,
      "outputs": []
    },
    {
      "cell_type": "code",
      "metadata": {
        "colab": {
          "base_uri": "https://localhost:8080/"
        },
        "id": "n_Vb4IgUmahK",
        "outputId": "e783e449-d1f8-425b-837c-474c862dc44d"
      },
      "source": [
        "# dropping the missing values in the fare column since it is only one  \n",
        "df2.dropna(inplace=True)\n",
        "\n",
        "# confirming all missing values have been dealt with  \n",
        "df2.isnull().any()"
      ],
      "execution_count": null,
      "outputs": [
        {
          "output_type": "execute_result",
          "data": {
            "text/plain": [
              "Pclass      False\n",
              "Sex         False\n",
              "Age         False\n",
              "SibSp       False\n",
              "Parch       False\n",
              "Fare        False\n",
              "Embarked    False\n",
              "dtype: bool"
            ]
          },
          "metadata": {
            "tags": []
          },
          "execution_count": 115
        }
      ]
    },
    {
      "cell_type": "code",
      "metadata": {
        "colab": {
          "base_uri": "https://localhost:8080/"
        },
        "id": "5W_6vNLymakl",
        "outputId": "1851c722-cafa-49b1-bce2-4c498bbdfe0a"
      },
      "source": [
        "# checking for duplicates in the test data \n",
        "df2.duplicated().sum()"
      ],
      "execution_count": null,
      "outputs": [
        {
          "output_type": "execute_result",
          "data": {
            "text/plain": [
              "43"
            ]
          },
          "metadata": {
            "tags": []
          },
          "execution_count": 116
        }
      ]
    },
    {
      "cell_type": "code",
      "metadata": {
        "colab": {
          "base_uri": "https://localhost:8080/"
        },
        "id": "mGUoJRI1oVri",
        "outputId": "6d91ddb6-c15f-4525-a930-a615e9fbac5d"
      },
      "source": [
        "# Removing duplicates\n",
        "# Keeping every first data point of the duplicated datapoints\n",
        "df2.drop_duplicates(keep='first', inplace = True)\n",
        "\n",
        "# Checking to confirm whether duplicates have been dropped\n",
        "df2.duplicated().any()"
      ],
      "execution_count": null,
      "outputs": [
        {
          "output_type": "execute_result",
          "data": {
            "text/plain": [
              "False"
            ]
          },
          "metadata": {
            "tags": []
          },
          "execution_count": 117
        }
      ]
    },
    {
      "cell_type": "code",
      "metadata": {
        "colab": {
          "base_uri": "https://localhost:8080/"
        },
        "id": "VBIpwHEFndJ_",
        "outputId": "0b5e06a9-ad99-4831-8b31-20b32389dfe2"
      },
      "source": [
        "# checking for anomalies in the test dataset \n",
        "Q1 = df2.quantile(0.25)\n",
        "Q3 = df2.quantile(0.75)\n",
        "IQR = Q3- Q1\n",
        "IQR"
      ],
      "execution_count": null,
      "outputs": [
        {
          "output_type": "execute_result",
          "data": {
            "text/plain": [
              "Pclass     2.0000\n",
              "Age       16.3750\n",
              "SibSp      1.0000\n",
              "Parch      0.7500\n",
              "Fare      30.5448\n",
              "dtype: float64"
            ]
          },
          "metadata": {
            "tags": []
          },
          "execution_count": 118
        }
      ]
    },
    {
      "cell_type": "code",
      "metadata": {
        "colab": {
          "base_uri": "https://localhost:8080/",
          "height": 615
        },
        "id": "jJCUGV6YndTV",
        "outputId": "b94605e0-c35f-4c49-8a86-30e7aa8726d6"
      },
      "source": [
        "# plotting outliers in the test dataset using boxplots \n",
        "fig, (ax1, ax2) = plt.subplots(1,2, figsize=(18,4))\n",
        "fig.suptitle('Boxplots')\n",
        "sns.boxplot(x = df2['Pclass'], ax=ax1, showmeans = True)\n",
        "sns.boxplot(x = df2['Age'], ax=ax2, showmeans = True)\n",
        "\n",
        "fig, (ax3, ax4,ax5) = plt.subplots(1,3, figsize=(18,4))\n",
        "fig.suptitle('Boxplots')\n",
        "sns.boxplot(x = df2['SibSp'], ax=ax3, showmeans = True)\n",
        "sns.boxplot(x = df2['Parch'], ax=ax4, showmeans = True)\n",
        "sns.boxplot(x = df2['Fare'], ax=ax5, showmeans = True)\n",
        "\n",
        "# these outliers will not be removed in this analysis "
      ],
      "execution_count": null,
      "outputs": [
        {
          "output_type": "execute_result",
          "data": {
            "text/plain": [
              "<matplotlib.axes._subplots.AxesSubplot at 0x7fd14027b110>"
            ]
          },
          "metadata": {
            "tags": []
          },
          "execution_count": 119
        },
        {
          "output_type": "display_data",
          "data": {
            "image/png": "[encoded data removed]",
            "text/plain": [
              "<Figure size 1296x288 with 2 Axes>"
            ]
          },
          "metadata": {
            "tags": []
          }
        },
        {
          "output_type": "display_data",
          "data": {
            "image/png": "[encoded data removed]",
            "text/plain": [
              "<Figure size 1296x288 with 3 Axes>"
            ]
          },
          "metadata": {
            "tags": []
          }
        }
      ]
    },
    {
      "cell_type": "markdown",
      "metadata": {
        "id": "TF2GUxxAQnQl"
      },
      "source": [
        "# 4. Exploratory Data Analysis"
      ]
    },
    {
      "cell_type": "markdown",
      "metadata": {
        "id": "9avvFOklpYji"
      },
      "source": [
        "## 4a) EDA of the Train dataset"
      ]
    },
    {
      "cell_type": "markdown",
      "metadata": {
        "id": "LGWeELN-Qwt8"
      },
      "source": [
        "### i) Univariate Analysis "
      ]
    },
    {
      "cell_type": "code",
      "metadata": {
        "colab": {
          "base_uri": "https://localhost:8080/",
          "height": 347
        },
        "id": "B5Yf2RDhTGwF",
        "outputId": "426b6ec7-5c1f-4f7c-b39a-6d7be2adf541"
      },
      "source": [
        "# countplot of the passengers survived\n",
        "sns.countplot(df1['Survived'])\n",
        "\n",
        "# the countplot shows more passengers did not survive (0)"
      ],
      "execution_count": null,
      "outputs": [
        {
          "output_type": "stream",
          "text": [
            "/usr/local/lib/python3.7/dist-packages/seaborn/_decorators.py:43: FutureWarning: Pass the following variable as a keyword arg: x. From version 0.12, the only valid positional argument will be `data`, and passing other arguments without an explicit keyword will result in an error or misinterpretation.\n",
            "  FutureWarning\n"
          ],
          "name": "stderr"
        },
        {
          "output_type": "execute_result",
          "data": {
            "text/plain": [
              "<matplotlib.axes._subplots.AxesSubplot at 0x7fd13f4a9d90>"
            ]
          },
          "metadata": {
            "tags": []
          },
          "execution_count": 120
        },
        {
          "output_type": "display_data",
          "data": {
            "image/png": "[encoded data removed]",
            "text/plain": [
              "<Figure size 432x288 with 1 Axes>"
            ]
          },
          "metadata": {
            "tags": []
          }
        }
      ]
    },
    {
      "cell_type": "code",
      "metadata": {
        "colab": {
          "base_uri": "https://localhost:8080/",
          "height": 285
        },
        "id": "nx15TrTTH7T6",
        "outputId": "8f1231b9-03fc-469f-871b-50205d636fec"
      },
      "source": [
        "# Pie Chart for sex of passengers in the train dataset\n",
        "sex = df1.Sex.value_counts()\n",
        "plt.figure(figsize= (5,3), dpi=100)\n",
        "\n",
        "# Highlighting yes\n",
        "explode = (0.2, 0)  \n",
        "colors = ['blue', 'orange']\n",
        "\n",
        "# Plotting our pie chart\n",
        "sex.plot.pie(explode = explode, colors = colors, autopct='%1.1f%%', shadow=True, startangle=140)\n",
        "plt.axis('equal')\n",
        "plt.title('Pie chart of gender of passengers')\n",
        "plt.show()\n",
        "\n",
        "# the data has more male passengers than females "
      ],
      "execution_count": null,
      "outputs": [
        {
          "output_type": "display_data",
          "data": {
            "image/png": "[encoded data removed]",
            "text/plain": [
              "<Figure size 500x300 with 1 Axes>"
            ]
          },
          "metadata": {
            "tags": []
          }
        }
      ]
    },
    {
      "cell_type": "code",
      "metadata": {
        "colab": {
          "base_uri": "https://localhost:8080/",
          "height": 285
        },
        "id": "6CJwd5jWiV6S",
        "outputId": "41e06467-a08a-4919-d011-4c99055bd866"
      },
      "source": [
        "# Pie Chart of passengers in different classes \n",
        "pclass = df1.Pclass.value_counts()\n",
        "plt.figure(figsize= (5,3), dpi=100)\n",
        "\n",
        "# Highlighting yes\n",
        "explode = (0.1,0.1, 0.1)  \n",
        "colors = ['blue', 'orange','green']\n",
        "\n",
        "# Plotting our pie chart\n",
        "pclass.plot.pie(explode = explode, colors = colors, autopct='%1.1f%%', shadow=True, startangle=140)\n",
        "plt.axis('equal')\n",
        "plt.title('Percentage of passengers in the three Pclasses')\n",
        "plt.show()\n",
        "\n",
        "# there are more passengers in the third class followed by the first class then finally the second class  "
      ],
      "execution_count": null,
      "outputs": [
        {
          "output_type": "display_data",
          "data": {
            "image/png": "[encoded data removed]",
            "text/plain": [
              "<Figure size 500x300 with 1 Axes>"
            ]
          },
          "metadata": {
            "tags": []
          }
        }
      ]
    },
    {
      "cell_type": "code",
      "metadata": {
        "colab": {
          "base_uri": "https://localhost:8080/",
          "height": 347
        },
        "id": "nDyh8YAJiV8o",
        "outputId": "a6627b1b-c528-44cf-c450-77fcea3c944d"
      },
      "source": [
        "# countplot of the column SIBSP \n",
        "sns.countplot(df1['SibSp'])"
      ],
      "execution_count": null,
      "outputs": [
        {
          "output_type": "stream",
          "text": [
            "/usr/local/lib/python3.7/dist-packages/seaborn/_decorators.py:43: FutureWarning: Pass the following variable as a keyword arg: x. From version 0.12, the only valid positional argument will be `data`, and passing other arguments without an explicit keyword will result in an error or misinterpretation.\n",
            "  FutureWarning\n"
          ],
          "name": "stderr"
        },
        {
          "output_type": "execute_result",
          "data": {
            "text/plain": [
              "<matplotlib.axes._subplots.AxesSubplot at 0x7fd13f25aa50>"
            ]
          },
          "metadata": {
            "tags": []
          },
          "execution_count": 123
        },
        {
          "output_type": "display_data",
          "data": {
            "image/png": "[encoded data removed]",
            "text/plain": [
              "<Figure size 432x288 with 1 Axes>"
            ]
          },
          "metadata": {
            "tags": []
          }
        }
      ]
    },
    {
      "cell_type": "code",
      "metadata": {
        "colab": {
          "base_uri": "https://localhost:8080/",
          "height": 347
        },
        "id": "FAsDGPeMiV_L",
        "outputId": "8f2dc12c-9bbc-44c2-a1ea-2ef92a0545f8"
      },
      "source": [
        "# countplot of the column embarked \n",
        "sns.countplot(df1['Embarked'])"
      ],
      "execution_count": null,
      "outputs": [
        {
          "output_type": "stream",
          "text": [
            "/usr/local/lib/python3.7/dist-packages/seaborn/_decorators.py:43: FutureWarning: Pass the following variable as a keyword arg: x. From version 0.12, the only valid positional argument will be `data`, and passing other arguments without an explicit keyword will result in an error or misinterpretation.\n",
            "  FutureWarning\n"
          ],
          "name": "stderr"
        },
        {
          "output_type": "execute_result",
          "data": {
            "text/plain": [
              "<matplotlib.axes._subplots.AxesSubplot at 0x7fd13f5bb810>"
            ]
          },
          "metadata": {
            "tags": []
          },
          "execution_count": 124
        },
        {
          "output_type": "display_data",
          "data": {
            "image/png": "[encoded data removed]",
            "text/plain": [
              "<Figure size 432x288 with 1 Axes>"
            ]
          },
          "metadata": {
            "tags": []
          }
        }
      ]
    },
    {
      "cell_type": "code",
      "metadata": {
        "colab": {
          "base_uri": "https://localhost:8080/",
          "height": 317
        },
        "id": "-VhqtT9HiWBn",
        "outputId": "2b7fd692-684a-4bf8-f997-f6e64067b002"
      },
      "source": [
        "# distribution of age of the passengers in the train dataset \n",
        "plt.hist(df1['Age'])\n",
        "plt.title(\"Distribution of Passengers Age\", fontsize = 16)\n",
        "plt.xlabel(\"age\", fontsize = 14 )"
      ],
      "execution_count": null,
      "outputs": [
        {
          "output_type": "execute_result",
          "data": {
            "text/plain": [
              "Text(0.5, 0, 'age')"
            ]
          },
          "metadata": {
            "tags": []
          },
          "execution_count": 125
        },
        {
          "output_type": "display_data",
          "data": {
            "image/png": "[encoded data removed]",
            "text/plain": [
              "<Figure size 432x288 with 1 Axes>"
            ]
          },
          "metadata": {
            "tags": []
          }
        }
      ]
    },
    {
      "cell_type": "code",
      "metadata": {
        "colab": {
          "base_uri": "https://localhost:8080/"
        },
        "id": "fGHZYoLAiWEO",
        "outputId": "6fa51fab-f994-437b-eaeb-622ef10a3ebc"
      },
      "source": [
        "#getting the measures of dispersion\n",
        "# Checking on coefficent of variance, skewness and kurtosis on age  variable \n",
        "\n",
        "print('The skewness is:', df1['Age'].skew())\n",
        "print('The kurtosis is:', df1['Age'].kurt())\n",
        "print('The coefficient of variation is:', df1['Age'].std()/df1['Age'].mean())\n",
        "print('prices Quantiles:', df1[\"Age\"].quantile([0.25, 0.5, 0.75]))"
      ],
      "execution_count": null,
      "outputs": [
        {
          "output_type": "stream",
          "text": [
            "The skewness is: 0.4271320765509538\n",
            "The kurtosis is: 0.4265561819355077\n",
            "The coefficient of variation is: 0.4703342997815702\n",
            "prices Quantiles: 0.25    21.0\n",
            "0.50    28.0\n",
            "0.75    37.0\n",
            "Name: Age, dtype: float64\n"
          ],
          "name": "stdout"
        }
      ]
    },
    {
      "cell_type": "code",
      "metadata": {
        "colab": {
          "base_uri": "https://localhost:8080/"
        },
        "id": "-dr5kVs2iWH3",
        "outputId": "05dd8b10-2156-4b60-aa21-aa930a69f8ef"
      },
      "source": [
        "#getting the measures of central tendancy of age\n",
        "\n",
        "print('Mean age of passengers:', df1[\"Age\"].mean())\n",
        "print('Mode of age:', df1[\"Age\"].mode())\n",
        "print('Median of age:', df1[\"Age\"].median())\n"
      ],
      "execution_count": null,
      "outputs": [
        {
          "output_type": "stream",
          "text": [
            "Mean age of passengers: 29.525769728331174\n",
            "Mode of age: 0    24.0\n",
            "dtype: float64\n",
            "Median of age: 28.0\n"
          ],
          "name": "stdout"
        }
      ]
    },
    {
      "cell_type": "markdown",
      "metadata": {
        "id": "RU-NRr1_ZePO"
      },
      "source": [
        "### ii) Bivariate Analysis "
      ]
    },
    {
      "cell_type": "code",
      "metadata": {
        "colab": {
          "base_uri": "https://localhost:8080/",
          "height": 326
        },
        "id": "UOMxnVsAZlb6",
        "outputId": "60aca2cc-cd59-4607-f9e9-85694a2ab1d8"
      },
      "source": [
        "# Comparison of Gender and survival \n",
        "\n",
        "table=pd.crosstab(df1['Sex'],df1['Survived'])\n",
        "table.div(table.sum(1).astype(float), axis=0).plot(kind='bar',figsize = (7,4), stacked=False)\n",
        "plt.title('Bar Chart of Gender to Survived', fontsize = 16)\n",
        "plt.xlabel('Gender', fontsize = 14)\n",
        "plt.ylabel('Proportion of Passengers', fontsize = 14)\n",
        "plt.show()\n",
        "\n",
        "# there are more females that survived than males even thought the dataset has more male passengers than females "
      ],
      "execution_count": null,
      "outputs": [
        {
          "output_type": "display_data",
          "data": {
            "image/png": "[encoded data removed]",
            "text/plain": [
              "<Figure size 504x288 with 1 Axes>"
            ]
          },
          "metadata": {
            "tags": []
          }
        }
      ]
    },
    {
      "cell_type": "code",
      "metadata": {
        "colab": {
          "base_uri": "https://localhost:8080/",
          "height": 306
        },
        "id": "q_rb_m37hFok",
        "outputId": "302ecd5c-c0c3-48d5-8309-8740d9bf763e"
      },
      "source": [
        "# frequency table of survived passengers vs SIBSP\n",
        "pd.crosstab(index= df1['SibSp'],columns=df1[\"Survived\"],margins=True)\n"
      ],
      "execution_count": null,
      "outputs": [
        {
          "output_type": "execute_result",
          "data": {
            "text/html": [
              "<div>\n",
              "<style scoped>\n",
              "    .dataframe tbody tr th:only-of-type {\n",
              "        vertical-align: middle;\n",
              "    }\n",
              "\n",
              "    .dataframe tbody tr th {\n",
              "        vertical-align: top;\n",
              "    }\n",
              "\n",
              "    .dataframe thead th {\n",
              "        text-align: right;\n",
              "    }\n",
              "</style>\n",
              "<table border=\"1\" class=\"dataframe\">\n",
              "  <thead>\n",
              "    <tr style=\"text-align: right;\">\n",
              "      <th>Survived</th>\n",
              "      <th>0</th>\n",
              "      <th>1</th>\n",
              "      <th>All</th>\n",
              "    </tr>\n",
              "    <tr>\n",
              "      <th>SibSp</th>\n",
              "      <th></th>\n",
              "      <th></th>\n",
              "      <th></th>\n",
              "    </tr>\n",
              "  </thead>\n",
              "  <tbody>\n",
              "    <tr>\n",
              "      <th>0</th>\n",
              "      <td>313</td>\n",
              "      <td>194</td>\n",
              "      <td>507</td>\n",
              "    </tr>\n",
              "    <tr>\n",
              "      <th>1</th>\n",
              "      <td>93</td>\n",
              "      <td>107</td>\n",
              "      <td>200</td>\n",
              "    </tr>\n",
              "    <tr>\n",
              "      <th>2</th>\n",
              "      <td>15</td>\n",
              "      <td>12</td>\n",
              "      <td>27</td>\n",
              "    </tr>\n",
              "    <tr>\n",
              "      <th>3</th>\n",
              "      <td>10</td>\n",
              "      <td>4</td>\n",
              "      <td>14</td>\n",
              "    </tr>\n",
              "    <tr>\n",
              "      <th>4</th>\n",
              "      <td>15</td>\n",
              "      <td>3</td>\n",
              "      <td>18</td>\n",
              "    </tr>\n",
              "    <tr>\n",
              "      <th>5</th>\n",
              "      <td>5</td>\n",
              "      <td>0</td>\n",
              "      <td>5</td>\n",
              "    </tr>\n",
              "    <tr>\n",
              "      <th>8</th>\n",
              "      <td>2</td>\n",
              "      <td>0</td>\n",
              "      <td>2</td>\n",
              "    </tr>\n",
              "    <tr>\n",
              "      <th>All</th>\n",
              "      <td>453</td>\n",
              "      <td>320</td>\n",
              "      <td>773</td>\n",
              "    </tr>\n",
              "  </tbody>\n",
              "</table>\n",
              "</div>"
            ],
            "text/plain": [
              "Survived    0    1  All\n",
              "SibSp                  \n",
              "0         313  194  507\n",
              "1          93  107  200\n",
              "2          15   12   27\n",
              "3          10    4   14\n",
              "4          15    3   18\n",
              "5           5    0    5\n",
              "8           2    0    2\n",
              "All       453  320  773"
            ]
          },
          "metadata": {
            "tags": []
          },
          "execution_count": 129
        }
      ]
    },
    {
      "cell_type": "code",
      "metadata": {
        "colab": {
          "base_uri": "https://localhost:8080/",
          "height": 297
        },
        "id": "aiMYW1hmZlr9",
        "outputId": "eae96f75-c3c8-44b8-c15f-48ab363fcd81"
      },
      "source": [
        "# countplot of embarked vs survived comparison\n",
        "#\n",
        "sns.countplot(x = 'Embarked', hue = 'Survived', data = df1)\n",
        "plt.title(\"Bar chart of Embarked vs Survived \", fontsize = 15)\n",
        "plt.show()\n",
        "\n",
        "# paasngers who embarked at point S had a higher propotion of surival than other stations "
      ],
      "execution_count": null,
      "outputs": [
        {
          "output_type": "display_data",
          "data": {
            "image/png": "[encoded data removed]",
            "text/plain": [
              "<Figure size 432x288 with 1 Axes>"
            ]
          },
          "metadata": {
            "tags": []
          }
        }
      ]
    },
    {
      "cell_type": "code",
      "metadata": {
        "colab": {
          "base_uri": "https://localhost:8080/",
          "height": 297
        },
        "id": "EvDMTq1kZlup",
        "outputId": "f139ef27-7e9d-42bf-bc0f-1f462972ccfa"
      },
      "source": [
        "# countplot of embarked vs survived comparison\n",
        "\n",
        "sns.countplot(x = 'Pclass', hue = 'Survived', data = df1)\n",
        "plt.title(\"Bar chart of Pclass vs Survived \", fontsize = 15)\n",
        "plt.show()\n",
        "\n",
        "# paasngers in the first class survived more than passengers in the classes  "
      ],
      "execution_count": null,
      "outputs": [
        {
          "output_type": "display_data",
          "data": {
            "image/png": "[encoded data removed]",
            "text/plain": [
              "<Figure size 432x288 with 1 Axes>"
            ]
          },
          "metadata": {
            "tags": []
          }
        }
      ]
    },
    {
      "cell_type": "code",
      "metadata": {
        "colab": {
          "base_uri": "https://localhost:8080/",
          "height": 220
        },
        "id": "8rr54e3TZlxO",
        "outputId": "7cae8eeb-ba15-4f3d-9680-88e8cb766527"
      },
      "source": [
        "# the correlations between the variables\n",
        "corr = df1.corr()\n",
        "corr\n",
        "\n",
        "# the varibales have low to moderate correlation "
      ],
      "execution_count": null,
      "outputs": [
        {
          "output_type": "execute_result",
          "data": {
            "text/html": [
              "<div>\n",
              "<style scoped>\n",
              "    .dataframe tbody tr th:only-of-type {\n",
              "        vertical-align: middle;\n",
              "    }\n",
              "\n",
              "    .dataframe tbody tr th {\n",
              "        vertical-align: top;\n",
              "    }\n",
              "\n",
              "    .dataframe thead th {\n",
              "        text-align: right;\n",
              "    }\n",
              "</style>\n",
              "<table border=\"1\" class=\"dataframe\">\n",
              "  <thead>\n",
              "    <tr style=\"text-align: right;\">\n",
              "      <th></th>\n",
              "      <th>Survived</th>\n",
              "      <th>Pclass</th>\n",
              "      <th>Age</th>\n",
              "      <th>SibSp</th>\n",
              "      <th>Parch</th>\n",
              "      <th>Fare</th>\n",
              "    </tr>\n",
              "  </thead>\n",
              "  <tbody>\n",
              "    <tr>\n",
              "      <th>Survived</th>\n",
              "      <td>1.000000</td>\n",
              "      <td>-0.330105</td>\n",
              "      <td>-0.073872</td>\n",
              "      <td>-0.037952</td>\n",
              "      <td>0.068862</td>\n",
              "      <td>0.242846</td>\n",
              "    </tr>\n",
              "    <tr>\n",
              "      <th>Pclass</th>\n",
              "      <td>-0.330105</td>\n",
              "      <td>1.000000</td>\n",
              "      <td>-0.390190</td>\n",
              "      <td>0.087234</td>\n",
              "      <td>0.040196</td>\n",
              "      <td>-0.550306</td>\n",
              "    </tr>\n",
              "    <tr>\n",
              "      <th>Age</th>\n",
              "      <td>-0.073872</td>\n",
              "      <td>-0.390190</td>\n",
              "      <td>1.000000</td>\n",
              "      <td>-0.285409</td>\n",
              "      <td>-0.186385</td>\n",
              "      <td>0.110178</td>\n",
              "    </tr>\n",
              "    <tr>\n",
              "      <th>SibSp</th>\n",
              "      <td>-0.037952</td>\n",
              "      <td>0.087234</td>\n",
              "      <td>-0.285409</td>\n",
              "      <td>1.000000</td>\n",
              "      <td>0.379745</td>\n",
              "      <td>0.134527</td>\n",
              "    </tr>\n",
              "    <tr>\n",
              "      <th>Parch</th>\n",
              "      <td>0.068862</td>\n",
              "      <td>0.040196</td>\n",
              "      <td>-0.186385</td>\n",
              "      <td>0.379745</td>\n",
              "      <td>1.000000</td>\n",
              "      <td>0.191163</td>\n",
              "    </tr>\n",
              "    <tr>\n",
              "      <th>Fare</th>\n",
              "      <td>0.242846</td>\n",
              "      <td>-0.550306</td>\n",
              "      <td>0.110178</td>\n",
              "      <td>0.134527</td>\n",
              "      <td>0.191163</td>\n",
              "      <td>1.000000</td>\n",
              "    </tr>\n",
              "  </tbody>\n",
              "</table>\n",
              "</div>"
            ],
            "text/plain": [
              "          Survived    Pclass       Age     SibSp     Parch      Fare\n",
              "Survived  1.000000 -0.330105 -0.073872 -0.037952  0.068862  0.242846\n",
              "Pclass   -0.330105  1.000000 -0.390190  0.087234  0.040196 -0.550306\n",
              "Age      -0.073872 -0.390190  1.000000 -0.285409 -0.186385  0.110178\n",
              "SibSp    -0.037952  0.087234 -0.285409  1.000000  0.379745  0.134527\n",
              "Parch     0.068862  0.040196 -0.186385  0.379745  1.000000  0.191163\n",
              "Fare      0.242846 -0.550306  0.110178  0.134527  0.191163  1.000000"
            ]
          },
          "metadata": {
            "tags": []
          },
          "execution_count": 132
        }
      ]
    },
    {
      "cell_type": "code",
      "metadata": {
        "colab": {
          "base_uri": "https://localhost:8080/",
          "height": 487
        },
        "id": "4m_FEGnDZlz8",
        "outputId": "c2b5f6f4-bbb2-4737-af6f-68ffb1d8fac7"
      },
      "source": [
        "# visualizing the correlation heatmap \n",
        "plt.figure(figsize=(10,8))\n",
        "sns.heatmap(corr, annot = True)\n",
        "plt.show()"
      ],
      "execution_count": null,
      "outputs": [
        {
          "output_type": "display_data",
          "data": {
            "image/png": "[encoded data removed]",
            "text/plain": [
              "<Figure size 720x576 with 2 Axes>"
            ]
          },
          "metadata": {
            "tags": []
          }
        }
      ]
    },
    {
      "cell_type": "markdown",
      "metadata": {
        "id": "bqC9pu01ptH8"
      },
      "source": [
        "## 4b) EDA of the test dataset"
      ]
    },
    {
      "cell_type": "markdown",
      "metadata": {
        "id": "LDXd9aJBpzWj"
      },
      "source": [
        "### i) Univariate Analysis "
      ]
    },
    {
      "cell_type": "code",
      "metadata": {
        "colab": {
          "base_uri": "https://localhost:8080/",
          "height": 317
        },
        "id": "lRfEeyCsrb7v",
        "outputId": "cd902931-89a5-4241-e8c7-f393e30eb5f4"
      },
      "source": [
        "# distribution of age of the passengers in the train dataset \n",
        "plt.hist(df2['Age'])\n",
        "plt.title(\"Distribution of Passengers Age\", fontsize = 16)\n",
        "plt.xlabel(\"age\", fontsize = 14 )"
      ],
      "execution_count": null,
      "outputs": [
        {
          "output_type": "execute_result",
          "data": {
            "text/plain": [
              "Text(0.5, 0, 'age')"
            ]
          },
          "metadata": {
            "tags": []
          },
          "execution_count": 134
        },
        {
          "output_type": "display_data",
          "data": {
            "image/png": "[encoded data removed]",
            "text/plain": [
              "<Figure size 432x288 with 1 Axes>"
            ]
          },
          "metadata": {
            "tags": []
          }
        }
      ]
    },
    {
      "cell_type": "code",
      "metadata": {
        "colab": {
          "base_uri": "https://localhost:8080/"
        },
        "id": "d7g1XXlarcGq",
        "outputId": "f81f4a57-0c1e-4860-fc78-8163c4b6248a"
      },
      "source": [
        "#getting the measures of dispersion\n",
        "# Checking on coefficent of variance, skewness and kurtosis on age  variable \n",
        "\n",
        "print('The skewness is:', df2['Age'].skew())\n",
        "print('The kurtosis is:', df2['Age'].kurt())\n",
        "print('The coefficient of variation is:', df2['Age'].std()/df2['Age'].mean())\n",
        "print('prices Quantiles:', df2[\"Age\"].quantile([0.25, 0.5, 0.75]))"
      ],
      "execution_count": null,
      "outputs": [
        {
          "output_type": "stream",
          "text": [
            "The skewness is: 0.5606687866525017\n",
            "The kurtosis is: 0.3667446789029509\n",
            "The coefficient of variation is: 0.4536170787747228\n",
            "prices Quantiles: 0.25    22.000\n",
            "0.50    26.000\n",
            "0.75    38.375\n",
            "Name: Age, dtype: float64\n"
          ],
          "name": "stdout"
        }
      ]
    },
    {
      "cell_type": "code",
      "metadata": {
        "colab": {
          "base_uri": "https://localhost:8080/"
        },
        "id": "QsjsB0sVrzk6",
        "outputId": "f786c999-28b4-485d-91ec-b508b7a8aa30"
      },
      "source": [
        "#getting the measures of central tendancy of age\n",
        "\n",
        "print('Mean age of passengers:', df2[\"Age\"].mean())\n",
        "print('Mode of age:', df2[\"Age\"].mode())\n",
        "print('Median of age:', df2[\"Age\"].median())\n"
      ],
      "execution_count": null,
      "outputs": [
        {
          "output_type": "stream",
          "text": [
            "Mean age of passengers: 29.737967914438503\n",
            "Mode of age: 0    24.0\n",
            "dtype: float64\n",
            "Median of age: 26.0\n"
          ],
          "name": "stdout"
        }
      ]
    },
    {
      "cell_type": "code",
      "metadata": {
        "colab": {
          "base_uri": "https://localhost:8080/",
          "height": 347
        },
        "id": "UFvijsf2rKSz",
        "outputId": "b45797ae-72de-42c7-bbe8-754cdd7643b8"
      },
      "source": [
        "# countplot of the column embarked \n",
        "sns.countplot(df2['Embarked'])"
      ],
      "execution_count": null,
      "outputs": [
        {
          "output_type": "stream",
          "text": [
            "/usr/local/lib/python3.7/dist-packages/seaborn/_decorators.py:43: FutureWarning: Pass the following variable as a keyword arg: x. From version 0.12, the only valid positional argument will be `data`, and passing other arguments without an explicit keyword will result in an error or misinterpretation.\n",
            "  FutureWarning\n"
          ],
          "name": "stderr"
        },
        {
          "output_type": "execute_result",
          "data": {
            "text/plain": [
              "<matplotlib.axes._subplots.AxesSubplot at 0x7fd13f8b7310>"
            ]
          },
          "metadata": {
            "tags": []
          },
          "execution_count": 137
        },
        {
          "output_type": "display_data",
          "data": {
            "image/png": "[encoded data removed]",
            "text/plain": [
              "<Figure size 432x288 with 1 Axes>"
            ]
          },
          "metadata": {
            "tags": []
          }
        }
      ]
    },
    {
      "cell_type": "code",
      "metadata": {
        "colab": {
          "base_uri": "https://localhost:8080/",
          "height": 285
        },
        "id": "bclSnZ_Tp6Ar",
        "outputId": "e3377dbc-d4d4-44da-a6eb-eb8715bdfc61"
      },
      "source": [
        "# Pie Chart for sex of passengers in the test dataset\n",
        "sex = df2.Sex.value_counts()\n",
        "plt.figure(figsize= (5,3), dpi=100)\n",
        "\n",
        "# Highlighting yes\n",
        "explode = (0.2, 0)  \n",
        "colors = ['blue', 'orange']\n",
        "\n",
        "# Plotting our pie chart\n",
        "sex.plot.pie(explode = explode, colors = colors, autopct='%1.1f%%', shadow=True, startangle=140)\n",
        "plt.axis('equal')\n",
        "plt.title('Pie chart of gender of passengers')\n",
        "plt.show()\n",
        "\n",
        "# the data has more male passengers than females "
      ],
      "execution_count": null,
      "outputs": [
        {
          "output_type": "display_data",
          "data": {
            "image/png": "[encoded data removed]",
            "text/plain": [
              "<Figure size 500x300 with 1 Axes>"
            ]
          },
          "metadata": {
            "tags": []
          }
        }
      ]
    },
    {
      "cell_type": "code",
      "metadata": {
        "colab": {
          "base_uri": "https://localhost:8080/",
          "height": 285
        },
        "id": "obRexCtap6En",
        "outputId": "0e569893-3c73-4079-e50b-cced9c117922"
      },
      "source": [
        "# Pie Chart of passengers in different classes \n",
        "pclass = df2.Pclass.value_counts()\n",
        "plt.figure(figsize= (5,3), dpi=100)\n",
        "\n",
        "# Highlighting yes\n",
        "explode = (0.1,0.1, 0.1)  \n",
        "colors = ['blue', 'orange','green']\n",
        "\n",
        "# Plotting our pie chart\n",
        "pclass.plot.pie(explode = explode, colors = colors, autopct='%1.1f%%', shadow=True, startangle=140)\n",
        "plt.axis('equal')\n",
        "plt.title('Percentage of passengers in the three Pclasses')\n",
        "plt.show()\n",
        "\n",
        "# there are more passengers in the third class followed by the first class then finally the second class  "
      ],
      "execution_count": null,
      "outputs": [
        {
          "output_type": "display_data",
          "data": {
            "image/png": "[encoded data removed]",
            "text/plain": [
              "<Figure size 500x300 with 1 Axes>"
            ]
          },
          "metadata": {
            "tags": []
          }
        }
      ]
    },
    {
      "cell_type": "code",
      "metadata": {
        "colab": {
          "base_uri": "https://localhost:8080/",
          "height": 350
        },
        "id": "u0zizECJp6Gu",
        "outputId": "1f29a70c-f983-4577-c160-f2a28018f8df"
      },
      "source": [
        "# countplot of the column SIBSP \n",
        "sns.countplot(df2['SibSp'])"
      ],
      "execution_count": null,
      "outputs": [
        {
          "output_type": "stream",
          "text": [
            "/usr/local/lib/python3.7/dist-packages/seaborn/_decorators.py:43: FutureWarning: Pass the following variable as a keyword arg: x. From version 0.12, the only valid positional argument will be `data`, and passing other arguments without an explicit keyword will result in an error or misinterpretation.\n",
            "  FutureWarning\n"
          ],
          "name": "stderr"
        },
        {
          "output_type": "execute_result",
          "data": {
            "text/plain": [
              "<matplotlib.axes._subplots.AxesSubplot at 0x7fd13ff2bcd0>"
            ]
          },
          "metadata": {
            "tags": []
          },
          "execution_count": 140
        },
        {
          "output_type": "display_data",
          "data": {
            "image/png": "[encoded data removed]",
            "text/plain": [
              "<Figure size 432x288 with 1 Axes>"
            ]
          },
          "metadata": {
            "tags": []
          }
        }
      ]
    },
    {
      "cell_type": "markdown",
      "metadata": {
        "id": "OtEN0ltrsYF_"
      },
      "source": [
        "### ii) Bivariate Analysis"
      ]
    },
    {
      "cell_type": "code",
      "metadata": {
        "colab": {
          "base_uri": "https://localhost:8080/",
          "height": 191
        },
        "id": "B2dOqfzUvy1M",
        "outputId": "818cbc70-6343-47c0-f2f9-4c31da1626e0"
      },
      "source": [
        "# the correlations between the variables\n",
        "corr2 = df2.corr()\n",
        "corr2"
      ],
      "execution_count": null,
      "outputs": [
        {
          "output_type": "execute_result",
          "data": {
            "text/html": [
              "<div>\n",
              "<style scoped>\n",
              "    .dataframe tbody tr th:only-of-type {\n",
              "        vertical-align: middle;\n",
              "    }\n",
              "\n",
              "    .dataframe tbody tr th {\n",
              "        vertical-align: top;\n",
              "    }\n",
              "\n",
              "    .dataframe thead th {\n",
              "        text-align: right;\n",
              "    }\n",
              "</style>\n",
              "<table border=\"1\" class=\"dataframe\">\n",
              "  <thead>\n",
              "    <tr style=\"text-align: right;\">\n",
              "      <th></th>\n",
              "      <th>Pclass</th>\n",
              "      <th>Age</th>\n",
              "      <th>SibSp</th>\n",
              "      <th>Parch</th>\n",
              "      <th>Fare</th>\n",
              "    </tr>\n",
              "  </thead>\n",
              "  <tbody>\n",
              "    <tr>\n",
              "      <th>Pclass</th>\n",
              "      <td>1.000000</td>\n",
              "      <td>-0.526853</td>\n",
              "      <td>0.030888</td>\n",
              "      <td>0.047056</td>\n",
              "      <td>-0.573748</td>\n",
              "    </tr>\n",
              "    <tr>\n",
              "      <th>Age</th>\n",
              "      <td>-0.526853</td>\n",
              "      <td>1.000000</td>\n",
              "      <td>-0.092397</td>\n",
              "      <td>-0.066921</td>\n",
              "      <td>0.342577</td>\n",
              "    </tr>\n",
              "    <tr>\n",
              "      <th>SibSp</th>\n",
              "      <td>0.030888</td>\n",
              "      <td>-0.092397</td>\n",
              "      <td>1.000000</td>\n",
              "      <td>0.294969</td>\n",
              "      <td>0.152447</td>\n",
              "    </tr>\n",
              "    <tr>\n",
              "      <th>Parch</th>\n",
              "      <td>0.047056</td>\n",
              "      <td>-0.066921</td>\n",
              "      <td>0.294969</td>\n",
              "      <td>1.000000</td>\n",
              "      <td>0.213941</td>\n",
              "    </tr>\n",
              "    <tr>\n",
              "      <th>Fare</th>\n",
              "      <td>-0.573748</td>\n",
              "      <td>0.342577</td>\n",
              "      <td>0.152447</td>\n",
              "      <td>0.213941</td>\n",
              "      <td>1.000000</td>\n",
              "    </tr>\n",
              "  </tbody>\n",
              "</table>\n",
              "</div>"
            ],
            "text/plain": [
              "          Pclass       Age     SibSp     Parch      Fare\n",
              "Pclass  1.000000 -0.526853  0.030888  0.047056 -0.573748\n",
              "Age    -0.526853  1.000000 -0.092397 -0.066921  0.342577\n",
              "SibSp   0.030888 -0.092397  1.000000  0.294969  0.152447\n",
              "Parch   0.047056 -0.066921  0.294969  1.000000  0.213941\n",
              "Fare   -0.573748  0.342577  0.152447  0.213941  1.000000"
            ]
          },
          "metadata": {
            "tags": []
          },
          "execution_count": 141
        }
      ]
    },
    {
      "cell_type": "code",
      "metadata": {
        "colab": {
          "base_uri": "https://localhost:8080/",
          "height": 487
        },
        "id": "9geC2AnGvqIh",
        "outputId": "7191323a-d0c9-4f4b-dbc9-7cd62296a497"
      },
      "source": [
        "# visualizing the correlation heatmap \n",
        "plt.figure(figsize=(10,8))\n",
        "sns.heatmap(corr2, annot = True)\n",
        "plt.show()"
      ],
      "execution_count": null,
      "outputs": [
        {
          "output_type": "display_data",
          "data": {
            "image/png": "[encoded data removed]",
            "text/plain": [
              "<Figure size 720x576 with 2 Axes>"
            ]
          },
          "metadata": {
            "tags": []
          }
        }
      ]
    },
    {
      "cell_type": "code",
      "metadata": {
        "colab": {
          "base_uri": "https://localhost:8080/",
          "height": 326
        },
        "id": "2c7sA9Rtp6If",
        "outputId": "02bacfcb-1378-464a-d983-c571f65706f2"
      },
      "source": [
        "# Comparison of Gender and survival \n",
        "\n",
        "table=pd.crosstab(df2['Sex'],df2['Pclass'])\n",
        "table.div(table.sum(1).astype(float), axis=0).plot(kind='bar',figsize = (7,4), stacked=False)\n",
        "plt.title('Bar Chart of Gender to Passenger class', fontsize = 16)\n",
        "plt.xlabel('Gender', fontsize = 14)\n",
        "plt.ylabel('Proportion of Passengers', fontsize = 14)\n",
        "plt.show()"
      ],
      "execution_count": null,
      "outputs": [
        {
          "output_type": "display_data",
          "data": {
            "image/png": "[encoded data removed]",
            "text/plain": [
              "<Figure size 504x288 with 1 Axes>"
            ]
          },
          "metadata": {
            "tags": []
          }
        }
      ]
    },
    {
      "cell_type": "code",
      "metadata": {
        "colab": {
          "base_uri": "https://localhost:8080/",
          "height": 297
        },
        "id": "_TpPeb5fp6Mo",
        "outputId": "4cc5afdc-22c9-4530-eccc-c0d2129b2b41"
      },
      "source": [
        "# countplot of embarked vs survived comparison\n",
        "#\n",
        "sns.countplot(x = 'Embarked', hue = 'Pclass', data = df2)\n",
        "plt.title(\"Bar chart of Embarked vs Passenger Class \", fontsize = 15)\n",
        "plt.show()"
      ],
      "execution_count": null,
      "outputs": [
        {
          "output_type": "display_data",
          "data": {
            "image/png": "[encoded data removed]",
            "text/plain": [
              "<Figure size 432x288 with 1 Axes>"
            ]
          },
          "metadata": {
            "tags": []
          }
        }
      ]
    },
    {
      "cell_type": "code",
      "metadata": {
        "colab": {
          "base_uri": "https://localhost:8080/",
          "height": 306
        },
        "id": "JELNXde9p6RC",
        "outputId": "7a2fcc6c-1bd9-4954-f637-5cf4249c69f8"
      },
      "source": [
        "# frequency table of passengers class vs SIBSP\n",
        "pd.crosstab(index= df2['SibSp'],columns=df2[\"Pclass\"],margins=True)\n"
      ],
      "execution_count": null,
      "outputs": [
        {
          "output_type": "execute_result",
          "data": {
            "text/html": [
              "<div>\n",
              "<style scoped>\n",
              "    .dataframe tbody tr th:only-of-type {\n",
              "        vertical-align: middle;\n",
              "    }\n",
              "\n",
              "    .dataframe tbody tr th {\n",
              "        vertical-align: top;\n",
              "    }\n",
              "\n",
              "    .dataframe thead th {\n",
              "        text-align: right;\n",
              "    }\n",
              "</style>\n",
              "<table border=\"1\" class=\"dataframe\">\n",
              "  <thead>\n",
              "    <tr style=\"text-align: right;\">\n",
              "      <th>Pclass</th>\n",
              "      <th>1</th>\n",
              "      <th>2</th>\n",
              "      <th>3</th>\n",
              "      <th>All</th>\n",
              "    </tr>\n",
              "    <tr>\n",
              "      <th>SibSp</th>\n",
              "      <th></th>\n",
              "      <th></th>\n",
              "      <th></th>\n",
              "      <th></th>\n",
              "    </tr>\n",
              "  </thead>\n",
              "  <tbody>\n",
              "    <tr>\n",
              "      <th>0</th>\n",
              "      <td>58</td>\n",
              "      <td>57</td>\n",
              "      <td>126</td>\n",
              "      <td>241</td>\n",
              "    </tr>\n",
              "    <tr>\n",
              "      <th>1</th>\n",
              "      <td>42</td>\n",
              "      <td>26</td>\n",
              "      <td>41</td>\n",
              "      <td>109</td>\n",
              "    </tr>\n",
              "    <tr>\n",
              "      <th>2</th>\n",
              "      <td>3</td>\n",
              "      <td>4</td>\n",
              "      <td>6</td>\n",
              "      <td>13</td>\n",
              "    </tr>\n",
              "    <tr>\n",
              "      <th>3</th>\n",
              "      <td>1</td>\n",
              "      <td>0</td>\n",
              "      <td>3</td>\n",
              "      <td>4</td>\n",
              "    </tr>\n",
              "    <tr>\n",
              "      <th>4</th>\n",
              "      <td>0</td>\n",
              "      <td>0</td>\n",
              "      <td>4</td>\n",
              "      <td>4</td>\n",
              "    </tr>\n",
              "    <tr>\n",
              "      <th>5</th>\n",
              "      <td>0</td>\n",
              "      <td>0</td>\n",
              "      <td>1</td>\n",
              "      <td>1</td>\n",
              "    </tr>\n",
              "    <tr>\n",
              "      <th>8</th>\n",
              "      <td>0</td>\n",
              "      <td>0</td>\n",
              "      <td>2</td>\n",
              "      <td>2</td>\n",
              "    </tr>\n",
              "    <tr>\n",
              "      <th>All</th>\n",
              "      <td>104</td>\n",
              "      <td>87</td>\n",
              "      <td>183</td>\n",
              "      <td>374</td>\n",
              "    </tr>\n",
              "  </tbody>\n",
              "</table>\n",
              "</div>"
            ],
            "text/plain": [
              "Pclass    1   2    3  All\n",
              "SibSp                    \n",
              "0        58  57  126  241\n",
              "1        42  26   41  109\n",
              "2         3   4    6   13\n",
              "3         1   0    3    4\n",
              "4         0   0    4    4\n",
              "5         0   0    1    1\n",
              "8         0   0    2    2\n",
              "All     104  87  183  374"
            ]
          },
          "metadata": {
            "tags": []
          },
          "execution_count": 145
        }
      ]
    },
    {
      "cell_type": "markdown",
      "metadata": {
        "id": "RHRz8zV_R1TT"
      },
      "source": [
        "# Feature Engineering"
      ]
    },
    {
      "cell_type": "code",
      "metadata": {
        "colab": {
          "base_uri": "https://localhost:8080/",
          "height": 105
        },
        "id": "E86MANByR7do",
        "outputId": "7aeda500-2a0c-44d6-bf2f-1b923b8b7179"
      },
      "source": [
        "# preview of the train dataset \n",
        "df1.head(2)"
      ],
      "execution_count": null,
      "outputs": [
        {
          "output_type": "execute_result",
          "data": {
            "text/html": [
              "<div>\n",
              "<style scoped>\n",
              "    .dataframe tbody tr th:only-of-type {\n",
              "        vertical-align: middle;\n",
              "    }\n",
              "\n",
              "    .dataframe tbody tr th {\n",
              "        vertical-align: top;\n",
              "    }\n",
              "\n",
              "    .dataframe thead th {\n",
              "        text-align: right;\n",
              "    }\n",
              "</style>\n",
              "<table border=\"1\" class=\"dataframe\">\n",
              "  <thead>\n",
              "    <tr style=\"text-align: right;\">\n",
              "      <th></th>\n",
              "      <th>Survived</th>\n",
              "      <th>Pclass</th>\n",
              "      <th>Sex</th>\n",
              "      <th>Age</th>\n",
              "      <th>SibSp</th>\n",
              "      <th>Parch</th>\n",
              "      <th>Fare</th>\n",
              "      <th>Embarked</th>\n",
              "    </tr>\n",
              "  </thead>\n",
              "  <tbody>\n",
              "    <tr>\n",
              "      <th>0</th>\n",
              "      <td>0</td>\n",
              "      <td>3</td>\n",
              "      <td>male</td>\n",
              "      <td>22.0</td>\n",
              "      <td>1</td>\n",
              "      <td>0</td>\n",
              "      <td>7.2500</td>\n",
              "      <td>S</td>\n",
              "    </tr>\n",
              "    <tr>\n",
              "      <th>1</th>\n",
              "      <td>1</td>\n",
              "      <td>1</td>\n",
              "      <td>female</td>\n",
              "      <td>38.0</td>\n",
              "      <td>1</td>\n",
              "      <td>0</td>\n",
              "      <td>71.2833</td>\n",
              "      <td>C</td>\n",
              "    </tr>\n",
              "  </tbody>\n",
              "</table>\n",
              "</div>"
            ],
            "text/plain": [
              "   Survived  Pclass     Sex   Age  SibSp  Parch     Fare Embarked\n",
              "0         0       3    male  22.0      1      0   7.2500        S\n",
              "1         1       1  female  38.0      1      0  71.2833        C"
            ]
          },
          "metadata": {
            "tags": []
          },
          "execution_count": 146
        }
      ]
    },
    {
      "cell_type": "code",
      "metadata": {
        "id": "BwS_-AJRSCJv"
      },
      "source": [
        "# Encode categorical data in the train dataset\n",
        "#label encode\n",
        "from sklearn.preprocessing import LabelEncoder\n",
        "le = LabelEncoder()\n",
        "df1['Sex'] = le.fit_transform(df1['Sex'])\n",
        "\n",
        "#One hot encode Embarked column using get dummies\n",
        "df1= pd.get_dummies(df1)"
      ],
      "execution_count": null,
      "outputs": []
    },
    {
      "cell_type": "code",
      "metadata": {
        "id": "krUuQy26bDOz"
      },
      "source": [
        "# Encode categorical data in the test dataset\n",
        "#label encode\n",
        "from sklearn.preprocessing import LabelEncoder\n",
        "le = LabelEncoder()\n",
        "df2['Sex'] = le.fit_transform(df2['Sex'])\n",
        "\n",
        "#One hot encode Embarked column using get dummies\n",
        "df2 = pd.get_dummies(df2)"
      ],
      "execution_count": null,
      "outputs": []
    },
    {
      "cell_type": "code",
      "metadata": {
        "id": "gnk1qITmanSq",
        "colab": {
          "base_uri": "https://localhost:8080/",
          "height": 202
        },
        "outputId": "7da6a1af-1459-4b00-87f6-73bf1398aef6"
      },
      "source": [
        "# preview of the encoded test dataset\n",
        "df2.head()"
      ],
      "execution_count": null,
      "outputs": [
        {
          "output_type": "execute_result",
          "data": {
            "text/html": [
              "<div>\n",
              "<style scoped>\n",
              "    .dataframe tbody tr th:only-of-type {\n",
              "        vertical-align: middle;\n",
              "    }\n",
              "\n",
              "    .dataframe tbody tr th {\n",
              "        vertical-align: top;\n",
              "    }\n",
              "\n",
              "    .dataframe thead th {\n",
              "        text-align: right;\n",
              "    }\n",
              "</style>\n",
              "<table border=\"1\" class=\"dataframe\">\n",
              "  <thead>\n",
              "    <tr style=\"text-align: right;\">\n",
              "      <th></th>\n",
              "      <th>Pclass</th>\n",
              "      <th>Sex</th>\n",
              "      <th>Age</th>\n",
              "      <th>SibSp</th>\n",
              "      <th>Parch</th>\n",
              "      <th>Fare</th>\n",
              "      <th>Embarked_C</th>\n",
              "      <th>Embarked_Q</th>\n",
              "      <th>Embarked_S</th>\n",
              "    </tr>\n",
              "  </thead>\n",
              "  <tbody>\n",
              "    <tr>\n",
              "      <th>0</th>\n",
              "      <td>3</td>\n",
              "      <td>1</td>\n",
              "      <td>34.5</td>\n",
              "      <td>0</td>\n",
              "      <td>0</td>\n",
              "      <td>7.8292</td>\n",
              "      <td>0</td>\n",
              "      <td>1</td>\n",
              "      <td>0</td>\n",
              "    </tr>\n",
              "    <tr>\n",
              "      <th>1</th>\n",
              "      <td>3</td>\n",
              "      <td>0</td>\n",
              "      <td>47.0</td>\n",
              "      <td>1</td>\n",
              "      <td>0</td>\n",
              "      <td>7.0000</td>\n",
              "      <td>0</td>\n",
              "      <td>0</td>\n",
              "      <td>1</td>\n",
              "    </tr>\n",
              "    <tr>\n",
              "      <th>2</th>\n",
              "      <td>2</td>\n",
              "      <td>1</td>\n",
              "      <td>62.0</td>\n",
              "      <td>0</td>\n",
              "      <td>0</td>\n",
              "      <td>9.6875</td>\n",
              "      <td>0</td>\n",
              "      <td>1</td>\n",
              "      <td>0</td>\n",
              "    </tr>\n",
              "    <tr>\n",
              "      <th>3</th>\n",
              "      <td>3</td>\n",
              "      <td>1</td>\n",
              "      <td>27.0</td>\n",
              "      <td>0</td>\n",
              "      <td>0</td>\n",
              "      <td>8.6625</td>\n",
              "      <td>0</td>\n",
              "      <td>0</td>\n",
              "      <td>1</td>\n",
              "    </tr>\n",
              "    <tr>\n",
              "      <th>4</th>\n",
              "      <td>3</td>\n",
              "      <td>0</td>\n",
              "      <td>22.0</td>\n",
              "      <td>1</td>\n",
              "      <td>1</td>\n",
              "      <td>12.2875</td>\n",
              "      <td>0</td>\n",
              "      <td>0</td>\n",
              "      <td>1</td>\n",
              "    </tr>\n",
              "  </tbody>\n",
              "</table>\n",
              "</div>"
            ],
            "text/plain": [
              "   Pclass  Sex   Age  SibSp  Parch     Fare  Embarked_C  Embarked_Q  Embarked_S\n",
              "0       3    1  34.5      0      0   7.8292           0           1           0\n",
              "1       3    0  47.0      1      0   7.0000           0           0           1\n",
              "2       2    1  62.0      0      0   9.6875           0           1           0\n",
              "3       3    1  27.0      0      0   8.6625           0           0           1\n",
              "4       3    0  22.0      1      1  12.2875           0           0           1"
            ]
          },
          "metadata": {
            "tags": []
          },
          "execution_count": 168
        }
      ]
    },
    {
      "cell_type": "markdown",
      "metadata": {
        "id": "RoBE9bh_wq3U"
      },
      "source": [
        "# 6. Implementing the Solution \n"
      ]
    },
    {
      "cell_type": "markdown",
      "metadata": {
        "id": "BlznPxZezlUd"
      },
      "source": [
        "## a) First Model 60 - 40 sets"
      ]
    },
    {
      "cell_type": "code",
      "metadata": {
        "id": "0HpN-fOoqN3N"
      },
      "source": [
        "# Splitting to features and labels \n",
        "X = df1.drop('Survived',axis=1)\n",
        "y = df1['Survived']\n",
        "\n",
        "# splitting the data into train and test and settin the test size to 40%\n",
        "from sklearn.model_selection import train_test_split\n",
        "X_train, X_test, y_train, y_test = train_test_split(X, y, test_size=0.4 , random_state=0)\n",
        "\n",
        "#feature scaling\n",
        "from sklearn.preprocessing import StandardScaler\n",
        "sc = StandardScaler()\n",
        "X_train = sc.fit_transform(X_train)\n",
        "X_test = sc.transform(X_test)"
      ],
      "execution_count": null,
      "outputs": []
    },
    {
      "cell_type": "code",
      "metadata": {
        "id": "uBbl-mfry2dX",
        "colab": {
          "base_uri": "https://localhost:8080/"
        },
        "outputId": "6e4b1761-5c94-4391-f01f-dd4d7a078c17"
      },
      "source": [
        "# importing the libraries and fitting the classifier \n",
        "from sklearn.neighbors import KNeighborsClassifier\n",
        "classifier = KNeighborsClassifier(5)\n",
        "classifier.fit(X_train, y_train)"
      ],
      "execution_count": null,
      "outputs": [
        {
          "output_type": "execute_result",
          "data": {
            "text/plain": [
              "KNeighborsClassifier(algorithm='auto', leaf_size=30, metric='minkowski',\n",
              "                     metric_params=None, n_jobs=None, n_neighbors=5, p=2,\n",
              "                     weights='uniform')"
            ]
          },
          "metadata": {
            "tags": []
          },
          "execution_count": 170
        }
      ]
    },
    {
      "cell_type": "code",
      "metadata": {
        "id": "NgEhEhYJ1Zgu",
        "colab": {
          "base_uri": "https://localhost:8080/"
        },
        "outputId": "de660d01-0724-4402-e2c6-bb99b7634e7e"
      },
      "source": [
        "# Predicting the score  \n",
        "y_pred1 = classifier.predict(X_test)\n",
        "y_pred1"
      ],
      "execution_count": null,
      "outputs": [
        {
          "output_type": "execute_result",
          "data": {
            "text/plain": [
              "array([0, 1, 1, 1, 0, 1, 0, 0, 0, 0, 1, 0, 0, 0, 0, 1, 1, 0, 1, 1, 1, 0,\n",
              "       0, 1, 1, 0, 0, 0, 1, 0, 0, 0, 0, 0, 0, 0, 1, 1, 1, 0, 0, 0, 0, 1,\n",
              "       1, 1, 1, 1, 0, 1, 0, 0, 0, 1, 1, 1, 0, 1, 0, 0, 1, 0, 0, 1, 1, 0,\n",
              "       1, 0, 1, 0, 1, 0, 0, 0, 0, 1, 0, 1, 1, 1, 0, 0, 0, 1, 0, 0, 1, 1,\n",
              "       0, 0, 0, 0, 0, 0, 1, 0, 0, 0, 0, 0, 0, 0, 0, 1, 1, 0, 0, 0, 0, 0,\n",
              "       0, 0, 0, 1, 0, 1, 0, 0, 0, 0, 0, 0, 0, 0, 1, 0, 0, 1, 0, 0, 1, 0,\n",
              "       0, 0, 1, 0, 1, 0, 0, 0, 0, 0, 1, 1, 1, 0, 1, 1, 1, 1, 1, 0, 0, 0,\n",
              "       0])"
            ]
          },
          "metadata": {
            "tags": []
          },
          "execution_count": 171
        }
      ]
    },
    {
      "cell_type": "code",
      "metadata": {
        "id": "Aa3sviujxMcC",
        "colab": {
          "base_uri": "https://localhost:8080/"
        },
        "outputId": "978b9bab-b90f-4386-dd62-b6ec7bdce2c4"
      },
      "source": [
        "# getting the accuracy score \n",
        "from sklearn.metrics import accuracy_score\n",
        "accuracy_score(y_test, y_pred1)"
      ],
      "execution_count": null,
      "outputs": [
        {
          "output_type": "execute_result",
          "data": {
            "text/plain": [
              "0.7741935483870968"
            ]
          },
          "metadata": {
            "tags": []
          },
          "execution_count": 172
        }
      ]
    },
    {
      "cell_type": "code",
      "metadata": {
        "id": "Wq3VKg6d1Zi6",
        "colab": {
          "base_uri": "https://localhost:8080/"
        },
        "outputId": "bff3e703-d652-4fea-b9ab-d624f002eaeb"
      },
      "source": [
        "# Getting the classification report and confusion matrix \n",
        "from sklearn.metrics import classification_report, confusion_matrix\n",
        "print(confusion_matrix(y_test, y_pred1))\n",
        "print(classification_report(y_test, y_pred1))\n"
      ],
      "execution_count": null,
      "outputs": [
        {
          "output_type": "stream",
          "text": [
            "[[75 12]\n",
            " [23 45]]\n",
            "              precision    recall  f1-score   support\n",
            "\n",
            "           0       0.77      0.86      0.81        87\n",
            "           1       0.79      0.66      0.72        68\n",
            "\n",
            "    accuracy                           0.77       155\n",
            "   macro avg       0.78      0.76      0.77       155\n",
            "weighted avg       0.78      0.77      0.77       155\n",
            "\n"
          ],
          "name": "stdout"
        }
      ]
    },
    {
      "cell_type": "markdown",
      "metadata": {
        "id": "bSRkY38t2X5f"
      },
      "source": [
        "The value of n-neighbors (k) is chosen to be 5 and the model achieved an accuracy of 78%. "
      ]
    },
    {
      "cell_type": "markdown",
      "metadata": {
        "id": "vAgQqPDT3Ur3"
      },
      "source": [
        "## b) Second model 70 - 30 sets"
      ]
    },
    {
      "cell_type": "code",
      "metadata": {
        "id": "J0Ubrx711Zlh"
      },
      "source": [
        "# Splitting to features and labels \n",
        "X = df1.drop('Survived',axis=1)\n",
        "y = df1['Survived']\n",
        "\n",
        "# splitting the data into train and test and settin the test size to 30%\n",
        "from sklearn.model_selection import train_test_split\n",
        "X_train, X_test, y_train, y_test = train_test_split(X, y, test_size=0.3 , random_state=0)\n",
        "\n",
        "#feature scaling\n",
        "from sklearn.preprocessing import StandardScaler\n",
        "sc = StandardScaler()\n",
        "X_train = sc.fit_transform(X_train)\n",
        "X_test = sc.transform(X_test)"
      ],
      "execution_count": null,
      "outputs": []
    },
    {
      "cell_type": "code",
      "metadata": {
        "colab": {
          "base_uri": "https://localhost:8080/"
        },
        "id": "wh-MV6tS1Zn2",
        "outputId": "3479eca0-8c32-4722-f373-8ea45f86912e"
      },
      "source": [
        "# importing the libraries and fitting the classifier \n",
        "from sklearn.neighbors import KNeighborsClassifier\n",
        "classifier = KNeighborsClassifier(5)\n",
        "classifier.fit(X_train, y_train)"
      ],
      "execution_count": null,
      "outputs": [
        {
          "output_type": "execute_result",
          "data": {
            "text/plain": [
              "KNeighborsClassifier(algorithm='auto', leaf_size=30, metric='minkowski',\n",
              "                     metric_params=None, n_jobs=None, n_neighbors=5, p=2,\n",
              "                     weights='uniform')"
            ]
          },
          "metadata": {
            "tags": []
          },
          "execution_count": 175
        }
      ]
    },
    {
      "cell_type": "code",
      "metadata": {
        "colab": {
          "base_uri": "https://localhost:8080/"
        },
        "id": "0brzI_WW1Zr_",
        "outputId": "47bdba2e-907b-4bfa-f848-197b4537688b"
      },
      "source": [
        "# Predicting the score \n",
        "y_pred2 = classifier.predict(X_test)\n",
        "\n",
        "# Getting the accuracy score \n",
        "from sklearn.metrics import accuracy_score\n",
        "accuracy_score(y_test, y_pred2)"
      ],
      "execution_count": null,
      "outputs": [
        {
          "output_type": "execute_result",
          "data": {
            "text/plain": [
              "0.7887931034482759"
            ]
          },
          "metadata": {
            "tags": []
          },
          "execution_count": 176
        }
      ]
    },
    {
      "cell_type": "code",
      "metadata": {
        "colab": {
          "base_uri": "https://localhost:8080/"
        },
        "id": "IWg-PxI61Zti",
        "outputId": "73188dab-22f9-4928-ffa6-ecba676e0e23"
      },
      "source": [
        "# Getting the classification report and confusion matrix \n",
        "from sklearn.metrics import classification_report, confusion_matrix\n",
        "print(confusion_matrix(y_test, y_pred2))\n",
        "print(classification_report(y_test, y_pred2))"
      ],
      "execution_count": null,
      "outputs": [
        {
          "output_type": "stream",
          "text": [
            "[[118  15]\n",
            " [ 34  65]]\n",
            "              precision    recall  f1-score   support\n",
            "\n",
            "           0       0.78      0.89      0.83       133\n",
            "           1       0.81      0.66      0.73        99\n",
            "\n",
            "    accuracy                           0.79       232\n",
            "   macro avg       0.79      0.77      0.78       232\n",
            "weighted avg       0.79      0.79      0.78       232\n",
            "\n"
          ],
          "name": "stdout"
        }
      ]
    },
    {
      "cell_type": "markdown",
      "metadata": {
        "id": "vSu-MNrT34w0"
      },
      "source": [
        "Spliiting the data into train and test and using 70% of the test data with the same value of k the second model achieved a slightly higher accuracy of 79% than the first model."
      ]
    },
    {
      "cell_type": "markdown",
      "metadata": {
        "id": "QQZZ6QOm4b_D"
      },
      "source": [
        "## c) Third Model 80 - 20 sets "
      ]
    },
    {
      "cell_type": "code",
      "metadata": {
        "id": "PAwpH1Iy1ZwY"
      },
      "source": [
        "# Splitting to features and labels \n",
        "X = df1.drop('Survived',axis=1)\n",
        "y = df1['Survived']\n",
        "\n",
        "# splitting the data into train and test and settin the test size to 20%\n",
        "from sklearn.model_selection import train_test_split\n",
        "X_train, X_test, y_train, y_test = train_test_split(X, y, test_size=0.2 , random_state=0)\n",
        "\n",
        "#feature scaling\n",
        "from sklearn.preprocessing import StandardScaler\n",
        "sc = StandardScaler()\n",
        "X_train = sc.fit_transform(X_train)\n",
        "X_test = sc.transform(X_test)"
      ],
      "execution_count": null,
      "outputs": []
    },
    {
      "cell_type": "code",
      "metadata": {
        "id": "6ajtLoq24Z0V",
        "colab": {
          "base_uri": "https://localhost:8080/"
        },
        "outputId": "21d5211b-53d4-485c-fa1d-568574c77da8"
      },
      "source": [
        "# importing the libraries and fitting the classifier \n",
        "from sklearn.neighbors import KNeighborsClassifier\n",
        "classifier = KNeighborsClassifier(5)\n",
        "classifier.fit(X_train, y_train)"
      ],
      "execution_count": null,
      "outputs": [
        {
          "output_type": "execute_result",
          "data": {
            "text/plain": [
              "KNeighborsClassifier(algorithm='auto', leaf_size=30, metric='minkowski',\n",
              "                     metric_params=None, n_jobs=None, n_neighbors=5, p=2,\n",
              "                     weights='uniform')"
            ]
          },
          "metadata": {
            "tags": []
          },
          "execution_count": 179
        }
      ]
    },
    {
      "cell_type": "code",
      "metadata": {
        "id": "ed3eVEdf1ZzT",
        "colab": {
          "base_uri": "https://localhost:8080/"
        },
        "outputId": "d1a250e8-0371-4ba6-cb05-317ec6a92f57"
      },
      "source": [
        "# Predicting the score \n",
        "y_pred3 = classifier.predict(X_test)\n",
        "\n",
        "# Getting the accuracy score \n",
        "from sklearn.metrics import accuracy_score\n",
        "accuracy_score(y_test, y_pred3)"
      ],
      "execution_count": null,
      "outputs": [
        {
          "output_type": "execute_result",
          "data": {
            "text/plain": [
              "0.8064516129032258"
            ]
          },
          "metadata": {
            "tags": []
          },
          "execution_count": 180
        }
      ]
    },
    {
      "cell_type": "code",
      "metadata": {
        "id": "qQnUaeWF1Z2L",
        "colab": {
          "base_uri": "https://localhost:8080/"
        },
        "outputId": "f846b0c9-d517-49d9-fd22-a3fef142fd92"
      },
      "source": [
        "# Getting the classification report and confusion matrix \n",
        "from sklearn.metrics import classification_report, confusion_matrix\n",
        "print(confusion_matrix(y_test, y_pred3))\n",
        "print(classification_report(y_test, y_pred3))\n"
      ],
      "execution_count": null,
      "outputs": [
        {
          "output_type": "stream",
          "text": [
            "[[162  18]\n",
            " [ 42  88]]\n",
            "              precision    recall  f1-score   support\n",
            "\n",
            "           0       0.79      0.90      0.84       180\n",
            "           1       0.83      0.68      0.75       130\n",
            "\n",
            "    accuracy                           0.81       310\n",
            "   macro avg       0.81      0.79      0.79       310\n",
            "weighted avg       0.81      0.81      0.80       310\n",
            "\n"
          ],
          "name": "stdout"
        }
      ]
    },
    {
      "cell_type": "markdown",
      "metadata": {
        "id": "qHq2jfq97nwe"
      },
      "source": [
        "The third model had the highest accuracy score of 80%. In this model the test size was set to 20% and the k value was the same as the previous models set at 5. \n",
        "\n",
        "Therefore the 80-20 sets model performed the best.\n",
        "\n",
        "The perecentage of total relevant results correctly classified by the algorthims also known as recall has increased as the test size is decreases."
      ]
    },
    {
      "cell_type": "markdown",
      "metadata": {
        "id": "ScWEKepT7-is"
      },
      "source": [
        "# Optimization of the Best model "
      ]
    },
    {
      "cell_type": "markdown",
      "metadata": {
        "id": "b6MHx_Yq8JDL"
      },
      "source": [
        "The models above used the a default metric (minkwoski). Inorder to optimize the the third model which performed the best we will tune the parameters and change the distnace metric to euclidean and manhattan and see the performance of the new model . "
      ]
    },
    {
      "cell_type": "code",
      "metadata": {
        "id": "SswURmiIy2pu"
      },
      "source": [
        "# Splitting to features and labels \n",
        "X = df1.drop('Survived',axis=1)\n",
        "y = df1['Survived']\n",
        "\n",
        "# splitting the data into train and test and settin the test size to 20%\n",
        "from sklearn.model_selection import train_test_split\n",
        "X_train, X_test, y_train, y_test = train_test_split(X, y, test_size=0.2 , random_state=0)\n",
        "\n",
        "#feature scaling\n",
        "from sklearn.preprocessing import StandardScaler\n",
        "sc = StandardScaler()\n",
        "X_train = sc.fit_transform(X_train)\n",
        "X_test = sc.transform(X_test)"
      ],
      "execution_count": null,
      "outputs": []
    },
    {
      "cell_type": "code",
      "metadata": {
        "id": "cJAZSm2t5MtU",
        "colab": {
          "base_uri": "https://localhost:8080/"
        },
        "outputId": "2676f537-f3a1-4285-dc05-f78e7c3bee70"
      },
      "source": [
        "# importing the libraries and fitting the classifier \n",
        "from sklearn.neighbors import KNeighborsClassifier\n",
        "classifier_opt = KNeighborsClassifier(n_neighbors = 9, p =2, leaf_size = 10, metric = 'manhattan')\n",
        "classifier_opt.fit(X_train, y_train)"
      ],
      "execution_count": null,
      "outputs": [
        {
          "output_type": "execute_result",
          "data": {
            "text/plain": [
              "KNeighborsClassifier(algorithm='auto', leaf_size=10, metric='manhattan',\n",
              "                     metric_params=None, n_jobs=None, n_neighbors=9, p=2,\n",
              "                     weights='uniform')"
            ]
          },
          "metadata": {
            "tags": []
          },
          "execution_count": 213
        }
      ]
    },
    {
      "cell_type": "code",
      "metadata": {
        "id": "tr26KqzN5M2_",
        "colab": {
          "base_uri": "https://localhost:8080/"
        },
        "outputId": "1fbfec25-3cf8-4381-fc7f-7b984094f52f"
      },
      "source": [
        "# Predicting the score \n",
        "y_pred_opt = classifier_opt.predict(X_test)\n",
        "\n",
        "# Getting the accuracy score \n",
        "from sklearn.metrics import accuracy_score\n",
        "accuracy_score(y_test, y_pred_opt)"
      ],
      "execution_count": null,
      "outputs": [
        {
          "output_type": "execute_result",
          "data": {
            "text/plain": [
              "0.8129032258064516"
            ]
          },
          "metadata": {
            "tags": []
          },
          "execution_count": 214
        }
      ]
    },
    {
      "cell_type": "markdown",
      "metadata": {
        "id": "jAWqQoZTCvAw"
      },
      "source": [
        "The ditance metrics euclidean and cosine achived the same accuracy models as the non optimized model. \n",
        "\n",
        "However tuning the parameterssetting k to 9, p = 2, leaf size = 10 and using the manhattan distance metric the models'accuracy performance increased slighty to 81%. \n",
        "\n",
        "We can therefore confidently conclude that changing the distance metric optimized the model. "
      ]
    },
    {
      "cell_type": "markdown",
      "metadata": {
        "id": "EV4idPVoBm71"
      },
      "source": [
        "# Predicting with the test dataset "
      ]
    },
    {
      "cell_type": "code",
      "metadata": {
        "id": "BmJadRJMBl3Y",
        "colab": {
          "base_uri": "https://localhost:8080/"
        },
        "outputId": "7a0543d2-e4ce-4204-b14a-9b7b96a4b8c5"
      },
      "source": [
        "# predicting the test dataset using the optimized model above  \n",
        "y_pred_opt = classifier_opt.predict(df2)\n",
        "y_pred_opt"
      ],
      "execution_count": null,
      "outputs": [
        {
          "output_type": "execute_result",
          "data": {
            "text/plain": [
              "array([0, 0, 0, 0, 1, 0, 0, 0, 1, 0, 0, 0, 0, 0, 0, 0, 0, 0, 0, 1, 0, 0,\n",
              "       0, 0, 1, 0, 0, 0, 0, 0, 0, 0, 1, 1, 0, 0, 0, 0, 0, 0, 0, 0, 0, 0,\n",
              "       0, 0, 0, 0, 1, 0, 0, 0, 1, 0, 0, 0, 0, 0, 0, 1, 0, 0, 0, 0, 1, 0,\n",
              "       0, 0, 0, 0, 0, 0, 0, 0, 1, 0, 0, 1, 0, 0, 0, 0, 0, 0, 0, 0, 0, 0,\n",
              "       0, 1, 0, 0, 0, 0, 0, 0, 0, 0, 0, 1, 0, 0, 0, 0, 0, 0, 1, 0, 0, 0,\n",
              "       0, 1, 0, 0, 0, 0, 0, 0, 0, 0, 1, 0, 0, 0, 0, 0, 0, 0, 0, 0, 0, 0,\n",
              "       0, 0, 0, 0, 0, 0, 0, 0, 0, 0, 0, 0, 0, 0, 0, 0, 0, 0, 0, 0, 0, 1,\n",
              "       0, 0, 1, 0, 0, 0, 0, 0, 0, 0, 0, 0, 0, 0, 0, 1, 0, 0, 0, 0, 0, 0,\n",
              "       0, 0, 0, 0, 0, 0, 0, 0, 0, 0, 0, 0, 1, 0, 0, 0, 0, 1, 0, 0, 0, 0,\n",
              "       0, 0, 0, 0, 0, 1, 0, 0, 0, 0, 1, 0, 0, 0, 0, 0, 0, 0, 0, 0, 0, 0,\n",
              "       0, 1, 0, 1, 0, 0, 0, 0, 0, 0, 0, 0, 1, 0, 0, 0, 0, 0, 0, 0, 0, 0,\n",
              "       0, 1, 0, 0, 0, 0, 0, 0, 0, 0, 0, 0, 0, 0, 0, 0, 1, 1, 0, 0, 0, 0,\n",
              "       0, 0, 0, 0, 1, 0, 0, 0, 0, 0, 0, 1, 0, 0, 0, 0, 0, 0, 0, 0, 1, 0,\n",
              "       0, 0, 0, 0, 0, 0, 0, 0, 1, 0, 0, 0, 0, 0, 1, 0, 0, 0, 0, 0, 0, 0,\n",
              "       0, 0, 0, 0, 1, 0, 0, 0, 0, 0, 0, 0, 1, 0, 0, 0, 1, 0, 0, 0, 0, 0,\n",
              "       0, 0, 1, 0, 0, 1, 1, 1, 0, 0, 0, 0, 0, 0, 0, 1, 0, 0, 0, 0, 0, 0,\n",
              "       0, 0, 0, 0, 1, 0, 0, 0, 0, 0, 0, 0, 0, 0, 0, 0, 1, 0, 0, 1, 0, 0])"
            ]
          },
          "metadata": {
            "tags": []
          },
          "execution_count": 215
        }
      ]
    },
    {
      "cell_type": "code",
      "metadata": {
        "id": "oD4bLyA3ipY_"
      },
      "source": [
        "#predictions as a df appended to set\n",
        "col_name = ['predicted_survival']\n",
        "preds_test = pd.DataFrame(y_pred_opt, columns=col_name)\n"
      ],
      "execution_count": null,
      "outputs": []
    },
    {
      "cell_type": "code",
      "metadata": {
        "colab": {
          "base_uri": "https://localhost:8080/",
          "height": 352
        },
        "id": "2Eh8uIcoiDCQ",
        "outputId": "6df562ea-0ad3-4e06-cbe5-bed0f52c7c13"
      },
      "source": [
        "# visualizing the prediction \n",
        "sns.countplot(preds_test['predicted_survival'])"
      ],
      "execution_count": null,
      "outputs": [
        {
          "output_type": "stream",
          "text": [
            "/usr/local/lib/python3.7/dist-packages/seaborn/_decorators.py:43: FutureWarning: Pass the following variable as a keyword arg: x. From version 0.12, the only valid positional argument will be `data`, and passing other arguments without an explicit keyword will result in an error or misinterpretation.\n",
            "  FutureWarning\n"
          ],
          "name": "stderr"
        },
        {
          "output_type": "execute_result",
          "data": {
            "text/plain": [
              "<matplotlib.axes._subplots.AxesSubplot at 0x7fd13adff2d0>"
            ]
          },
          "metadata": {
            "tags": []
          },
          "execution_count": 217
        },
        {
          "output_type": "display_data",
          "data": {
            "image/png": "[encoded data removed]",
            "text/plain": [
              "<Figure size 432x288 with 1 Axes>"
            ]
          },
          "metadata": {
            "tags": [],
            "needs_background": "light"
          }
        }
      ]
    },
    {
      "cell_type": "markdown",
      "metadata": {
        "id": "CfXzz2Vy5pdh"
      },
      "source": [
        "The optimzed model predicted that most passengers in the test dataset did not survive. "
      ]
    },
    {
      "cell_type": "markdown",
      "metadata": {
        "id": "U1a_rYxqKQHG"
      },
      "source": [
        "# Challenge the solution "
      ]
    },
    {
      "cell_type": "markdown",
      "metadata": {
        "id": "aWnFM4H1KT7X"
      },
      "source": [
        "The models can be further challeged by performing reduction techniques such as PCA to the features and thereafter creating the model and noting down the performance of the model.  "
      ]
    },
    {
      "cell_type": "markdown",
      "metadata": {
        "id": "0AWiFvsBHmIB"
      },
      "source": [
        "# 8. Follow Up Questions "
      ]
    },
    {
      "cell_type": "markdown",
      "metadata": {
        "id": "F6iuTTHzHsqL"
      },
      "source": [
        "a) Did we have the right question \n",
        "\n",
        "The question for analysis was appropriate. Recall the objective was to create models that predict if a passnger survived or not and finally optimize the best model."
      ]
    },
    {
      "cell_type": "markdown",
      "metadata": {
        "id": "fA5o4CdDHshi"
      },
      "source": [
        "b) Did we have the right data \n",
        "\n",
        "Yes the data was apropriate for analysis "
      ]
    },
    {
      "cell_type": "markdown",
      "metadata": {
        "id": "JPDl197rIT_2"
      },
      "source": [
        "c) Do we need another data to answer the question \n",
        "\n",
        "The variables provided were sufficient but not entirely. if we could have more variables distinguishing the passengers more, i believe we could get more insights from the data. "
      ]
    }
  ]
}